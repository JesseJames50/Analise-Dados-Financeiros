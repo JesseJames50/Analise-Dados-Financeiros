{
  "nbformat": 4,
  "nbformat_minor": 0,
  "metadata": {
    "colab": {
      "provenance": [],
      "authorship_tag": "ABX9TyMDIMphXeJbclzvcavDhdTh",
      "include_colab_link": true
    },
    "kernelspec": {
      "name": "python3",
      "display_name": "Python 3"
    },
    "language_info": {
      "name": "python"
    }
  },
  "cells": [
    {
      "cell_type": "markdown",
      "metadata": {
        "id": "view-in-github",
        "colab_type": "text"
      },
      "source": [
        "<a href=\"https://colab.research.google.com/github/JesseJames50/Analise-Dados-Financeiros/blob/main/eden_dos_traders.ipynb\" target=\"_parent\"><img src=\"https://colab.research.google.com/assets/colab-badge.svg\" alt=\"Open In Colab\"/></a>"
      ]
    },
    {
      "cell_type": "markdown",
      "source": [
        "# EDEN DOS TRADERS\n",
        "O Éden dos Traders é um filtro de tendência idealizado pelo trader Stormer o qual se baseia na verificação se um ativo está em tendência de alta ou baixa pela análise das médias exponenciais de 8 e 80"
      ],
      "metadata": {
        "id": "q3nFdwyC83ik"
      }
    },
    {
      "cell_type": "code",
      "execution_count": 1,
      "metadata": {
        "colab": {
          "base_uri": "https://localhost:8080/"
        },
        "id": "8kEkLzMk1tnC",
        "outputId": "7402ec50-c580-46d3-ee10-c960b6a74a10"
      },
      "outputs": [
        {
          "output_type": "stream",
          "name": "stdout",
          "text": [
            "Requirement already satisfied: yfinance in /usr/local/lib/python3.10/dist-packages (0.2.38)\n",
            "Requirement already satisfied: pandas>=1.3.0 in /usr/local/lib/python3.10/dist-packages (from yfinance) (2.0.3)\n",
            "Requirement already satisfied: numpy>=1.16.5 in /usr/local/lib/python3.10/dist-packages (from yfinance) (1.25.2)\n",
            "Requirement already satisfied: requests>=2.31 in /usr/local/lib/python3.10/dist-packages (from yfinance) (2.31.0)\n",
            "Requirement already satisfied: multitasking>=0.0.7 in /usr/local/lib/python3.10/dist-packages (from yfinance) (0.0.11)\n",
            "Requirement already satisfied: lxml>=4.9.1 in /usr/local/lib/python3.10/dist-packages (from yfinance) (4.9.4)\n",
            "Requirement already satisfied: appdirs>=1.4.4 in /usr/local/lib/python3.10/dist-packages (from yfinance) (1.4.4)\n",
            "Requirement already satisfied: pytz>=2022.5 in /usr/local/lib/python3.10/dist-packages (from yfinance) (2023.4)\n",
            "Requirement already satisfied: frozendict>=2.3.4 in /usr/local/lib/python3.10/dist-packages (from yfinance) (2.4.4)\n",
            "Requirement already satisfied: peewee>=3.16.2 in /usr/local/lib/python3.10/dist-packages (from yfinance) (3.17.3)\n",
            "Requirement already satisfied: beautifulsoup4>=4.11.1 in /usr/local/lib/python3.10/dist-packages (from yfinance) (4.12.3)\n",
            "Requirement already satisfied: html5lib>=1.1 in /usr/local/lib/python3.10/dist-packages (from yfinance) (1.1)\n",
            "Requirement already satisfied: soupsieve>1.2 in /usr/local/lib/python3.10/dist-packages (from beautifulsoup4>=4.11.1->yfinance) (2.5)\n",
            "Requirement already satisfied: six>=1.9 in /usr/local/lib/python3.10/dist-packages (from html5lib>=1.1->yfinance) (1.16.0)\n",
            "Requirement already satisfied: webencodings in /usr/local/lib/python3.10/dist-packages (from html5lib>=1.1->yfinance) (0.5.1)\n",
            "Requirement already satisfied: python-dateutil>=2.8.2 in /usr/local/lib/python3.10/dist-packages (from pandas>=1.3.0->yfinance) (2.8.2)\n",
            "Requirement already satisfied: tzdata>=2022.1 in /usr/local/lib/python3.10/dist-packages (from pandas>=1.3.0->yfinance) (2024.1)\n",
            "Requirement already satisfied: charset-normalizer<4,>=2 in /usr/local/lib/python3.10/dist-packages (from requests>=2.31->yfinance) (3.3.2)\n",
            "Requirement already satisfied: idna<4,>=2.5 in /usr/local/lib/python3.10/dist-packages (from requests>=2.31->yfinance) (3.7)\n",
            "Requirement already satisfied: urllib3<3,>=1.21.1 in /usr/local/lib/python3.10/dist-packages (from requests>=2.31->yfinance) (2.0.7)\n",
            "Requirement already satisfied: certifi>=2017.4.17 in /usr/local/lib/python3.10/dist-packages (from requests>=2.31->yfinance) (2024.2.2)\n"
          ]
        }
      ],
      "source": [
        "! pip install yfinance"
      ]
    },
    {
      "cell_type": "code",
      "source": [
        "import yfinance as yf\n",
        "import pandas as pd"
      ],
      "metadata": {
        "id": "_w5C7-HK1w2I"
      },
      "execution_count": 2,
      "outputs": []
    },
    {
      "cell_type": "code",
      "source": [
        "# periodos 2m = 2mo, 1 ano = 1y\n",
        "# periodos: \"1d\", \"5d\", \"1mo\", \"2mo\", \"3mo\", \"6mo\", \"1y\", \"2y\", \"5y\", \"10y\", \"ytd\", \"max\"\n",
        "\n",
        "periodo = \"2mo\"\n",
        "\n",
        "def fetch_data(ticker, period=periodo):\n",
        "    \"\"\"\n",
        "    Fetch historical market data for a given ticker over a specified period.\n",
        "    \"\"\"\n",
        "    data = yf.download(ticker, period=period)\n",
        "    return data\n",
        "\n",
        "# Utilizando as médias de 21 e 80\n",
        "def calculate_emas(data, short_window=21, long_window=80):\n",
        "    \"\"\"\n",
        "    Calculate short-term and long-term exponential moving averages (EMAs) for the data.\n",
        "    \"\"\"\n",
        "    data['EMA_short'] = data['Close'].ewm(span=short_window, adjust=False).mean()\n",
        "    data['EMA_long'] = data['Close'].ewm(span=long_window, adjust=False).mean()\n",
        "    return data\n",
        "\n",
        "def align_signals(data):\n",
        "    \"\"\"\n",
        "    Determine if the short-term and long-term EMAs are both trending in the same direction.\n",
        "    \"\"\"\n",
        "    data['Signal'] = ((data['EMA_short'].diff() > 0) & (data['EMA_long'].diff() > 0)) | \\\n",
        "                     ((data['EMA_short'].diff() < 0) & (data['EMA_long'].diff() < 0))\n",
        "    return data\n",
        "\n",
        "def analyze_tickers(tickers, period=periodo):\n",
        "    results = {}\n",
        "    for ticker in tickers:\n",
        "        print(f\"Analyzing {ticker}...\")\n",
        "        data = fetch_data(ticker, period)\n",
        "        if not data.empty:\n",
        "            data = calculate_emas(data)\n",
        "            data = align_signals(data)\n",
        "            results[ticker] = data\n",
        "        else:\n",
        "            print(f\"No data found for {ticker}\")\n",
        "    return results\n",
        "\n",
        "# Lista de tickers para análise\n",
        "tickers = ['petr4.sa', 'wege3.sa', 'mglu3.sa']  # Exemplo de tickers\n",
        "\n",
        "# Executar análise\n",
        "ticker_data = analyze_tickers(tickers)\n"
      ],
      "metadata": {
        "colab": {
          "base_uri": "https://localhost:8080/"
        },
        "id": "FnHCuXmU1zwV",
        "outputId": "2df8e846-71f4-4376-a944-f5ae35bec731"
      },
      "execution_count": 18,
      "outputs": [
        {
          "output_type": "stream",
          "name": "stderr",
          "text": [
            "\r[*********************100%%**********************]  1 of 1 completed"
          ]
        },
        {
          "output_type": "stream",
          "name": "stdout",
          "text": [
            "Analyzing petr4.sa...\n",
            "Analyzing wege3.sa...\n"
          ]
        },
        {
          "output_type": "stream",
          "name": "stderr",
          "text": [
            "\n",
            "[*********************100%%**********************]  1 of 1 completed\n",
            "[*********************100%%**********************]  1 of 1 completed"
          ]
        },
        {
          "output_type": "stream",
          "name": "stdout",
          "text": [
            "Analyzing mglu3.sa...\n"
          ]
        },
        {
          "output_type": "stream",
          "name": "stderr",
          "text": [
            "\n"
          ]
        }
      ]
    },
    {
      "cell_type": "code",
      "source": [
        "# Mostrar os resultados para um dos tickers, por exemplo, AAPL\n",
        "print(ticker_data['petr4.sa'].tail(30))"
      ],
      "metadata": {
        "colab": {
          "base_uri": "https://localhost:8080/"
        },
        "id": "nrFWuCY--gt7",
        "outputId": "4f15c06e-5ec0-4e0e-e7e1-dc7391fac2b6"
      },
      "execution_count": 22,
      "outputs": [
        {
          "output_type": "stream",
          "name": "stdout",
          "text": [
            "                 Open       High        Low      Close  Adj Close     Volume  \\\n",
            "Date                                                                           \n",
            "2024-03-28  36.500000  37.520000  36.470001  37.360001  34.836323   31958200   \n",
            "2024-04-01  37.500000  37.709999  37.209999  37.650002  35.106731   23697800   \n",
            "2024-04-02  37.820000  38.650002  37.770000  38.619999  36.011204   45930700   \n",
            "2024-04-03  38.700001  39.009998  38.220001  38.419998  35.824715   31437200   \n",
            "2024-04-04  38.470001  39.480000  37.430000  37.980000  35.414440  165566800   \n",
            "2024-04-05  37.900002  38.570000  37.169998  38.099998  35.526333   65469200   \n",
            "2024-04-08  38.029999  39.060001  37.730000  38.630001  36.020535   36384400   \n",
            "2024-04-09  38.900002  39.139999  38.060001  38.730000  36.113773   36989300   \n",
            "2024-04-10  38.730000  39.730000  38.660000  39.590000  36.915680   55821500   \n",
            "2024-04-11  39.599998  39.759998  39.200001  39.299999  36.645271   33195300   \n",
            "2024-04-12  39.720001  40.049999  38.700001  38.939999  36.309589   39613500   \n",
            "2024-04-15  38.939999  39.450001  38.630001  39.310001  36.654598   28692000   \n",
            "2024-04-16  39.009998  39.709999  38.950001  39.490002  36.822441   37303000   \n",
            "2024-04-17  39.490002  39.950001  39.340000  39.779999  37.092846   39221700   \n",
            "2024-04-18  40.000000  40.590000  39.650002  39.849998  37.158119   45078800   \n",
            "2024-04-19  40.049999  41.070000  39.840000  40.529999  37.792187   80546900   \n",
            "2024-04-22  40.759998  41.590000  40.520000  41.500000  38.696663   51775500   \n",
            "2024-04-23  41.400002  41.630001  40.959999  41.419998  38.622063   35456900   \n",
            "2024-04-24  41.549999  41.990002  41.209999  41.230000  38.444901   45388300   \n",
            "2024-04-25  41.400002  42.480000  41.080002  42.220001  39.368027   66372400   \n",
            "2024-04-26  41.290001  41.779999  41.070000  41.650002  39.912140   31899100   \n",
            "2024-04-29  41.480000  42.150002  41.320000  42.150002  40.391277   27886000   \n",
            "2024-04-30  42.000000  42.209999  41.619999  42.020000  40.266701   36635400   \n",
            "2024-05-02  42.250000  42.380001  41.840000  42.180000  40.420025   33244700   \n",
            "2024-05-03  40.689999  40.689999  39.450001  39.889999  39.889999   45114200   \n",
            "2024-05-06  39.869999  40.360001  39.720001  40.160000  40.160000   22977200   \n",
            "2024-05-07  40.150002  40.650002  40.000000  40.650002  40.650002   23808600   \n",
            "2024-05-08  40.349998  41.330002  40.310001  41.270000  41.270000   25352000   \n",
            "2024-05-09  41.060001  41.840000  40.939999  41.669998  41.669998   27206400   \n",
            "2024-05-10  41.840000  42.090000  41.500000  41.580002  41.580002   27968700   \n",
            "\n",
            "            EMA_short   EMA_long  Signal  \n",
            "Date                                      \n",
            "2024-03-28  36.223909  35.864243    True  \n",
            "2024-04-01  36.353553  35.908336    True  \n",
            "2024-04-02  36.559594  35.975290    True  \n",
            "2024-04-03  36.728722  36.035654    True  \n",
            "2024-04-04  36.842474  36.083662    True  \n",
            "2024-04-05  36.956795  36.133448    True  \n",
            "2024-04-08  37.108904  36.195091    True  \n",
            "2024-04-09  37.256277  36.257682    True  \n",
            "2024-04-10  37.468433  36.339961    True  \n",
            "2024-04-11  37.634939  36.413049    True  \n",
            "2024-04-12  37.753581  36.475442    True  \n",
            "2024-04-15  37.895074  36.545432    True  \n",
            "2024-04-16  38.040067  36.618137    True  \n",
            "2024-04-17  38.198243  36.696208    True  \n",
            "2024-04-18  38.348402  36.774079    True  \n",
            "2024-04-19  38.546729  36.866818    True  \n",
            "2024-04-22  38.815209  36.981217    True  \n",
            "2024-04-23  39.052008  37.090817    True  \n",
            "2024-04-24  39.250007  37.193019    True  \n",
            "2024-04-25  39.520006  37.317142    True  \n",
            "2024-04-26  39.713642  37.424126    True  \n",
            "2024-04-29  39.935129  37.540814    True  \n",
            "2024-04-30  40.124663  37.651412    True  \n",
            "2024-05-02  40.311512  37.763229    True  \n",
            "2024-05-03  40.273193  37.815741   False  \n",
            "2024-05-06  40.262902  37.873624   False  \n",
            "2024-05-07  40.298093  37.942177    True  \n",
            "2024-05-08  40.386448  38.024345    True  \n",
            "2024-05-09  40.503135  38.114361    True  \n",
            "2024-05-10  40.601032  38.199933    True  \n"
          ]
        }
      ]
    }
  ]
}