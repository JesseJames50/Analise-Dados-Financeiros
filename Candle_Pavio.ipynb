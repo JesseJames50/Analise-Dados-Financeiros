{
  "nbformat": 4,
  "nbformat_minor": 0,
  "metadata": {
    "colab": {
      "provenance": [],
      "authorship_tag": "ABX9TyOf4CyusiwIoHaXOrL6b9Va",
      "include_colab_link": true
    },
    "kernelspec": {
      "name": "python3",
      "display_name": "Python 3"
    },
    "language_info": {
      "name": "python"
    }
  },
  "cells": [
    {
      "cell_type": "markdown",
      "metadata": {
        "id": "view-in-github",
        "colab_type": "text"
      },
      "source": [
        "<a href=\"https://colab.research.google.com/github/JesseJames50/Analise-Dados-Financeiros/blob/main/Candle_Pavio.ipynb\" target=\"_parent\"><img src=\"https://colab.research.google.com/assets/colab-badge.svg\" alt=\"Open In Colab\"/></a>"
      ]
    },
    {
      "cell_type": "code",
      "execution_count": 29,
      "metadata": {
        "colab": {
          "base_uri": "https://localhost:8080/"
        },
        "id": "GqjNhOuMFd2-",
        "outputId": "eb87936c-d5f5-4358-ce87-8dd0af951b38"
      },
      "outputs": [
        {
          "output_type": "stream",
          "name": "stdout",
          "text": [
            "Requirement already satisfied: yfinance in /usr/local/lib/python3.10/dist-packages (0.2.38)\n",
            "Requirement already satisfied: pandas>=1.3.0 in /usr/local/lib/python3.10/dist-packages (from yfinance) (2.0.3)\n",
            "Requirement already satisfied: numpy>=1.16.5 in /usr/local/lib/python3.10/dist-packages (from yfinance) (1.25.2)\n",
            "Requirement already satisfied: requests>=2.31 in /usr/local/lib/python3.10/dist-packages (from yfinance) (2.31.0)\n",
            "Requirement already satisfied: multitasking>=0.0.7 in /usr/local/lib/python3.10/dist-packages (from yfinance) (0.0.11)\n",
            "Requirement already satisfied: lxml>=4.9.1 in /usr/local/lib/python3.10/dist-packages (from yfinance) (4.9.4)\n",
            "Requirement already satisfied: appdirs>=1.4.4 in /usr/local/lib/python3.10/dist-packages (from yfinance) (1.4.4)\n",
            "Requirement already satisfied: pytz>=2022.5 in /usr/local/lib/python3.10/dist-packages (from yfinance) (2023.4)\n",
            "Requirement already satisfied: frozendict>=2.3.4 in /usr/local/lib/python3.10/dist-packages (from yfinance) (2.4.4)\n",
            "Requirement already satisfied: peewee>=3.16.2 in /usr/local/lib/python3.10/dist-packages (from yfinance) (3.17.3)\n",
            "Requirement already satisfied: beautifulsoup4>=4.11.1 in /usr/local/lib/python3.10/dist-packages (from yfinance) (4.12.3)\n",
            "Requirement already satisfied: html5lib>=1.1 in /usr/local/lib/python3.10/dist-packages (from yfinance) (1.1)\n",
            "Requirement already satisfied: soupsieve>1.2 in /usr/local/lib/python3.10/dist-packages (from beautifulsoup4>=4.11.1->yfinance) (2.5)\n",
            "Requirement already satisfied: six>=1.9 in /usr/local/lib/python3.10/dist-packages (from html5lib>=1.1->yfinance) (1.16.0)\n",
            "Requirement already satisfied: webencodings in /usr/local/lib/python3.10/dist-packages (from html5lib>=1.1->yfinance) (0.5.1)\n",
            "Requirement already satisfied: python-dateutil>=2.8.2 in /usr/local/lib/python3.10/dist-packages (from pandas>=1.3.0->yfinance) (2.8.2)\n",
            "Requirement already satisfied: tzdata>=2022.1 in /usr/local/lib/python3.10/dist-packages (from pandas>=1.3.0->yfinance) (2024.1)\n",
            "Requirement already satisfied: charset-normalizer<4,>=2 in /usr/local/lib/python3.10/dist-packages (from requests>=2.31->yfinance) (3.3.2)\n",
            "Requirement already satisfied: idna<4,>=2.5 in /usr/local/lib/python3.10/dist-packages (from requests>=2.31->yfinance) (3.7)\n",
            "Requirement already satisfied: urllib3<3,>=1.21.1 in /usr/local/lib/python3.10/dist-packages (from requests>=2.31->yfinance) (2.0.7)\n",
            "Requirement already satisfied: certifi>=2017.4.17 in /usr/local/lib/python3.10/dist-packages (from requests>=2.31->yfinance) (2024.2.2)\n",
            "Requirement already satisfied: scikit-learn in /usr/local/lib/python3.10/dist-packages (1.2.2)\n",
            "Collecting scikit-learn\n",
            "  Downloading scikit_learn-1.4.2-cp310-cp310-manylinux_2_17_x86_64.manylinux2014_x86_64.whl (12.1 MB)\n",
            "\u001b[2K     \u001b[90m━━━━━━━━━━━━━━━━━━━━━━━━━━━━━━━━━━━━━━━━\u001b[0m \u001b[32m12.1/12.1 MB\u001b[0m \u001b[31m37.8 MB/s\u001b[0m eta \u001b[36m0:00:00\u001b[0m\n",
            "\u001b[?25hRequirement already satisfied: numpy>=1.19.5 in /usr/local/lib/python3.10/dist-packages (from scikit-learn) (1.25.2)\n",
            "Requirement already satisfied: scipy>=1.6.0 in /usr/local/lib/python3.10/dist-packages (from scikit-learn) (1.11.4)\n",
            "Requirement already satisfied: joblib>=1.2.0 in /usr/local/lib/python3.10/dist-packages (from scikit-learn) (1.4.2)\n",
            "Requirement already satisfied: threadpoolctl>=2.0.0 in /usr/local/lib/python3.10/dist-packages (from scikit-learn) (3.5.0)\n",
            "Installing collected packages: scikit-learn\n",
            "  Attempting uninstall: scikit-learn\n",
            "    Found existing installation: scikit-learn 1.2.2\n",
            "    Uninstalling scikit-learn-1.2.2:\n",
            "      Successfully uninstalled scikit-learn-1.2.2\n",
            "Successfully installed scikit-learn-1.4.2\n"
          ]
        }
      ],
      "source": [
        "!pip install yfinance\n",
        "!pip install -U scikit-learn"
      ]
    },
    {
      "cell_type": "code",
      "source": [
        "import yfinance as yf\n",
        "import pandas as pd\n",
        "import numpy as np\n",
        "\n",
        "# Carregar dados de PETR4.SA usando yfinance\n",
        "data = yf.download(\"PETR3.SA\", start=\"2021-01-01\")\n",
        "\n",
        "# Calcular o corpo e a amplitude do candle\n",
        "data['Body'] = abs(data['Close'] - data['Open'])\n",
        "data['Range'] = data['High'] - data['Low']\n",
        "data['Candle'] = data['Body'] / data['Range'] <= 0.2  # Candles com corpo até 20% da amplitude\n",
        "\n",
        "# Identificar gap de abertura após o candle de pavio\n",
        "data['Gap'] = data['Open'].shift(-1) / data['Close'] - 1\n",
        "data['EntrySignal'] = (data['Candle'] & (data['Gap'] >= 0.005)).shift(1)  # Gap de pelo menos 0.5%\n",
        "data['EntrySignal'] = data['EntrySignal'].fillna(False)  # Trata NaN como False\n",
        "\n",
        "# Definir os preços de entrada e saída\n",
        "data['EntryPrice'] = data['Open'].shift(-1)\n",
        "data['ExitPrice'] = data['Close'].shift(-1)\n",
        "data['Returns'] = np.where(data['EntrySignal'], (data['ExitPrice'] / data['EntryPrice']) - 1, 0)\n",
        "data['Returns'] = data['Returns'].fillna(0)\n",
        "data['CumulativeReturns'] = (1 + data['Returns']).cumprod() - 1\n",
        "\n",
        "# Exibir resultados\n",
        "print(data[['EntrySignal', 'EntryPrice', 'ExitPrice', 'Returns', 'CumulativeReturns']].dropna())\n",
        "\n",
        "# Análise de desempenho\n",
        "total_trades = data['EntrySignal'].sum()\n",
        "average_return = data['Returns'][data['EntrySignal']].mean()\n",
        "cumulative_return = data['CumulativeReturns'].iloc[-1]\n",
        "\n",
        "print(f\"Total Trades: {total_trades}\")\n",
        "print(f\"Average Return per Trade: {average_return:.2%}\")\n",
        "print(f\"Cumulative Return: {cumulative_return:.2%}\")\n"
      ],
      "metadata": {
        "colab": {
          "base_uri": "https://localhost:8080/"
        },
        "id": "bHcOroFjFk7V",
        "outputId": "83dc582d-e0cc-4887-d036-434b34e98e94"
      },
      "execution_count": 27,
      "outputs": [
        {
          "output_type": "stream",
          "name": "stderr",
          "text": [
            "\r[*********************100%%**********************]  1 of 1 completed"
          ]
        },
        {
          "output_type": "stream",
          "name": "stdout",
          "text": [
            "            EntrySignal  EntryPrice  ExitPrice  Returns  CumulativeReturns\n",
            "Date                                                                      \n",
            "2021-01-04        False   29.459999  30.400000      0.0             0.0000\n",
            "2021-01-05        False   30.500000  30.750000      0.0             0.0000\n",
            "2021-01-06        False   30.920000  31.650000      0.0             0.0000\n",
            "2021-01-07        False   31.879999  31.590000      0.0             0.0000\n",
            "2021-01-08        False   31.120001  31.290001      0.0             0.0000\n",
            "...                 ...         ...        ...      ...                ...\n",
            "2024-05-03        False   42.020000  42.220001      0.0             0.1316\n",
            "2024-05-06        False   42.310001  43.240002      0.0             0.1316\n",
            "2024-05-07        False   42.910000  43.700001      0.0             0.1316\n",
            "2024-05-08        False   43.500000  44.470001      0.0             0.1316\n",
            "2024-05-09        False   44.500000  44.130001      0.0             0.1316\n",
            "\n",
            "[834 rows x 5 columns]\n",
            "Total Trades: 57\n",
            "Average Return per Trade: 0.24%\n",
            "Cumulative Return: 13.16%\n"
          ]
        },
        {
          "output_type": "stream",
          "name": "stderr",
          "text": [
            "\n"
          ]
        }
      ]
    },
    {
      "cell_type": "code",
      "source": [
        "# Adicionando médias móveis como sinal de entrada\n",
        "import yfinance as yf\n",
        "import pandas as pd\n",
        "import numpy as np\n",
        "\n",
        "# Carregar dados de PETR4.SA usando yfinance\n",
        "data = yf.download(\"PETR4.SA\", start=\"2021-01-01\")\n",
        "\n",
        "# Calcular o corpo e a amplitude do candle\n",
        "data['Body'] = abs(data['Close'] - data['Open'])\n",
        "data['Range'] = data['High'] - data['Low']\n",
        "data['Candle'] = data['Body'] / data['Range'] <= 0.2  # Candles com corpo até 20% da amplitude\n",
        "\n",
        "# Identificar gap de abertura após o candle de pavio\n",
        "data['Gap'] = data['Open'].shift(-1) / data['Close'] - 1\n",
        "data['EntrySignal'] = (data['Candle'] & (data['Gap'] >= 0.005)).shift(1)  # Gap de pelo menos 0.5%\n",
        "\n",
        "# Adicionando Médias Móveis Simples\n",
        "data['SMA50'] = data['Close'].rolling(window=50).mean()\n",
        "data['SMA200'] = data['Close'].rolling(window=200).mean()\n",
        "\n",
        "# Filtrar sinais com base na direção das médias móveis\n",
        "data['Trend'] = data['SMA50'] > data['SMA200']\n",
        "data['EntrySignal'] = data['EntrySignal'] & data['Trend']\n",
        "\n",
        "# Definir os preços de entrada e saída\n",
        "data['EntryPrice'] = data['Open'].shift(-1)\n",
        "data['ExitPrice'] = data['Close'].shift(-1)\n",
        "data['Returns'] = np.where(data['EntrySignal'], (data['ExitPrice'] / data['EntryPrice']) - 1, 0)\n",
        "data['Returns'] = data['Returns'].fillna(0)\n",
        "data['CumulativeReturns'] = (1 + data['Returns']).cumprod() - 1\n",
        "\n",
        "# Exibir resultados\n",
        "print(data[['EntrySignal', 'EntryPrice', 'ExitPrice', 'Returns', 'CumulativeReturns']].dropna())\n",
        "\n",
        "# Análise de desempenho\n",
        "total_trades = data['EntrySignal'].sum()\n",
        "average_return = data['Returns'][data['EntrySignal']].mean()\n",
        "cumulative_return = data['CumulativeReturns'].iloc[-1]\n",
        "\n",
        "print(f\"Total Trades: {total_trades}\")\n",
        "print(f\"Average Return per Trade: {average_return:.2%}\")\n",
        "print(f\"Cumulative Return: {cumulative_return:.2%}\")\n"
      ],
      "metadata": {
        "colab": {
          "base_uri": "https://localhost:8080/"
        },
        "id": "hPNntCZzFlHs",
        "outputId": "b2148b90-3aa8-44b3-aff4-e7afd0937717"
      },
      "execution_count": 26,
      "outputs": [
        {
          "output_type": "stream",
          "name": "stderr",
          "text": [
            "\r[*********************100%%**********************]  1 of 1 completed"
          ]
        },
        {
          "output_type": "stream",
          "name": "stdout",
          "text": [
            "            EntrySignal  EntryPrice  ExitPrice  Returns  CumulativeReturns\n",
            "Date                                                                      \n",
            "2021-01-04        False   28.900000  30.040001      0.0           0.000000\n",
            "2021-01-05        False   30.160000  30.100000      0.0           0.000000\n",
            "2021-01-06        False   30.340000  31.000000      0.0           0.000000\n",
            "2021-01-07        False   31.459999  31.120001      0.0           0.000000\n",
            "2021-01-08        False   30.610001  30.860001      0.0           0.000000\n",
            "...                 ...         ...        ...      ...                ...\n",
            "2024-05-03        False   39.869999  40.160000      0.0           0.008556\n",
            "2024-05-06        False   40.150002  40.650002      0.0           0.008556\n",
            "2024-05-07        False   40.349998  41.270000      0.0           0.008556\n",
            "2024-05-08        False   41.060001  41.669998      0.0           0.008556\n",
            "2024-05-09        False   41.840000  41.580002      0.0           0.008556\n",
            "\n",
            "[834 rows x 5 columns]\n",
            "Total Trades: 34\n",
            "Average Return per Trade: 0.05%\n",
            "Cumulative Return: 0.86%\n"
          ]
        },
        {
          "output_type": "stream",
          "name": "stderr",
          "text": [
            "\n"
          ]
        }
      ]
    },
    {
      "cell_type": "markdown",
      "source": [],
      "metadata": {
        "id": "4nGRerT1hzZR"
      }
    },
    {
      "cell_type": "code",
      "source": [
        "# Adicionando RSI como sinal de entrada\n",
        "import yfinance as yf\n",
        "import pandas as pd\n",
        "import numpy as np\n",
        "\n",
        "def calculate_rsi(data, window=14):\n",
        "    delta = data['Close'].diff()\n",
        "    gain = (delta.where(delta > 0, 0)).rolling(window=window).mean()\n",
        "    loss = (-delta.where(delta < 0, 0)).rolling(window=window).mean()\n",
        "\n",
        "    rs = gain / loss\n",
        "    rsi = 100 - (100 / (1 + rs))\n",
        "    return rsi\n",
        "\n",
        "# Carregar dados de PETR4.SA usando yfinance\n",
        "data = yf.download(\"PETR4.SA\", start=\"2021-01-01\")\n",
        "\n",
        "# Calcular o corpo e a amplitude do candle\n",
        "data['Body'] = abs(data['Close'] - data['Open'])\n",
        "data['Range'] = data['High'] - data['Low']\n",
        "data['Candle'] = data['Body'] / data['Range'] <= 0.20  # Candles com corpo até 20% da amplitude\n",
        "\n",
        "# Identificar gap de abertura após o candle de pavio\n",
        "data['Gap'] = data['Open'].shift(-1) / data['Close'] - 1\n",
        "data['EntrySignal'] = (data['Candle'] & (data['Gap'] >= 0.005)).shift(1)  # Gap de pelo menos 0.5%\n",
        "\n",
        "# Adicionando RSI\n",
        "data['RSI'] = calculate_rsi(data)\n",
        "data['RSI_Entry'] = (data['RSI'] > 30) & (data['RSI'] < 70)\n",
        "\n",
        "# Filtrar sinais com base no RSI\n",
        "data['EntrySignal'] = data['EntrySignal'] & data['RSI_Entry']\n",
        "\n",
        "# Definir os preços de entrada e saída\n",
        "data['EntryPrice'] = data['Open'].shift(-1)\n",
        "data['ExitPrice'] = data['Close'].shift(-1)\n",
        "data['Returns'] = np.where(data['EntrySignal'], (data['ExitPrice'] / data['EntryPrice']) - 1, 0)\n",
        "data['Returns'] = data['Returns'].fillna(0)\n",
        "data['CumulativeReturns'] = (1 + data['Returns']).cumprod() - 1\n",
        "\n",
        "# Exibir resultados\n",
        "print(data[['EntrySignal', 'EntryPrice', 'ExitPrice', 'Returns', 'CumulativeReturns']].dropna())\n",
        "\n",
        "# Análise de desempenho\n",
        "total_trades = data['EntrySignal'].sum()\n",
        "average_return = data['Returns'][data['EntrySignal']].mean()\n",
        "cumulative_return = data['CumulativeReturns'].iloc[-1]\n",
        "\n",
        "print(f\"Total Trades: {total_trades}\")\n",
        "print(f\"Average Return per Trade: {average_return:.2%}\")\n",
        "print(f\"Cumulative Return: {cumulative_return:.2%}\")\n"
      ],
      "metadata": {
        "colab": {
          "base_uri": "https://localhost:8080/"
        },
        "id": "jyg92uByFlPZ",
        "outputId": "4af9390d-4c6d-4cbd-9d32-d968f7e981a0"
      },
      "execution_count": 25,
      "outputs": [
        {
          "output_type": "stream",
          "name": "stderr",
          "text": [
            "\r[*********************100%%**********************]  1 of 1 completed"
          ]
        },
        {
          "output_type": "stream",
          "name": "stdout",
          "text": [
            "            EntrySignal  EntryPrice  ExitPrice  Returns  CumulativeReturns\n",
            "Date                                                                      \n",
            "2021-01-04        False   28.900000  30.040001      0.0           0.000000\n",
            "2021-01-05        False   30.160000  30.100000      0.0           0.000000\n",
            "2021-01-06        False   30.340000  31.000000      0.0           0.000000\n",
            "2021-01-07        False   31.459999  31.120001      0.0           0.000000\n",
            "2021-01-08        False   30.610001  30.860001      0.0           0.000000\n",
            "...                 ...         ...        ...      ...                ...\n",
            "2024-05-03        False   39.869999  40.160000      0.0          -0.005622\n",
            "2024-05-06        False   40.150002  40.650002      0.0          -0.005622\n",
            "2024-05-07        False   40.349998  41.270000      0.0          -0.005622\n",
            "2024-05-08        False   41.060001  41.669998      0.0          -0.005622\n",
            "2024-05-09        False   41.840000  41.580002      0.0          -0.005622\n",
            "\n",
            "[834 rows x 5 columns]\n",
            "Total Trades: 41\n",
            "Average Return per Trade: 0.01%\n",
            "Cumulative Return: -0.56%\n"
          ]
        },
        {
          "output_type": "stream",
          "name": "stderr",
          "text": [
            "\n"
          ]
        }
      ]
    },
    {
      "cell_type": "code",
      "source": [
        "import yfinance as yf\n",
        "import pandas as pd\n",
        "import numpy as np\n",
        "from sklearn.linear_model import LogisticRegression\n",
        "from sklearn.model_selection import train_test_split\n",
        "from sklearn.metrics import accuracy_score\n",
        "\n",
        "# Carregar dados\n",
        "data = yf.download(\"PETR4.SA\", start=\"2017-01-01\", end=\"2023-01-01\")\n",
        "\n",
        "# Preparar os dados\n",
        "data['SMA50'] = data['Close'].rolling(window=50).mean()\n",
        "data['Target'] = data['Close'].shift(-20) > data['Close']  # Comparando o preço de hoje com o preço daqui a um mês\n",
        "\n",
        "# Limpar dados NaN\n",
        "data = data.dropna()\n",
        "\n",
        "# Criar features e target\n",
        "X = data[['SMA50']]\n",
        "y = data['Target']\n",
        "\n",
        "# Dividir os dados em treino e teste\n",
        "X_train, X_test, y_train, y_test = train_test_split(X, y, test_size=0.2, random_state=42)\n",
        "\n",
        "# Treinar o modelo\n",
        "model = LogisticRegression()\n",
        "model.fit(X_train, y_train)\n",
        "\n",
        "# Avaliar o modelo\n",
        "y_pred = model.predict(X_test)\n",
        "print(f\"Accuracy: {accuracy_score(y_test, y_pred)}\")\n",
        "\n",
        "# Usar o modelo para filtrar sinais de entrada\n",
        "data['Predicted_Trend'] = model.predict(data[['SMA50']])\n",
        "data['EntrySignal'] = data['Predicted_Trend'] & (data['Gap'] >= 0.005).shift(1)\n",
        "\n",
        "# Análise de trades com base no novo sinal\n",
        "data['EntryPrice'] = data['Open'].shift(-1)\n",
        "data['ExitPrice'] = data['Close'].shift(-1)\n",
        "data['Returns'] = np.where(data['EntrySignal'], (data['ExitPrice'] / data['EntryPrice']) - 1, 0)\n",
        "data['CumulativeReturns'] = (1 + data['Returns']).cumprod() - 1\n",
        "\n",
        "# Exibir resultados finais\n",
        "print(data[['EntrySignal', 'EntryPrice', 'ExitPrice', 'Returns', 'CumulativeReturns']].dropna())\n"
      ],
      "metadata": {
        "colab": {
          "base_uri": "https://localhost:8080/",
          "height": 637
        },
        "id": "rmK6Ma6GFlUq",
        "outputId": "6dbe4948-0cc3-4fd1-f65d-f72a5f08d8fb"
      },
      "execution_count": 30,
      "outputs": [
        {
          "output_type": "stream",
          "name": "stderr",
          "text": [
            "\r[*********************100%%**********************]  1 of 1 completed"
          ]
        },
        {
          "output_type": "stream",
          "name": "stdout",
          "text": [
            "Accuracy: 0.6228373702422145\n"
          ]
        },
        {
          "output_type": "stream",
          "name": "stderr",
          "text": [
            "\n",
            "<ipython-input-30-1171d6ce9174>:34: SettingWithCopyWarning: \n",
            "A value is trying to be set on a copy of a slice from a DataFrame.\n",
            "Try using .loc[row_indexer,col_indexer] = value instead\n",
            "\n",
            "See the caveats in the documentation: https://pandas.pydata.org/pandas-docs/stable/user_guide/indexing.html#returning-a-view-versus-a-copy\n",
            "  data['Predicted_Trend'] = model.predict(data[['SMA50']])\n"
          ]
        },
        {
          "output_type": "error",
          "ename": "KeyError",
          "evalue": "'Gap'",
          "traceback": [
            "\u001b[0;31m---------------------------------------------------------------------------\u001b[0m",
            "\u001b[0;31mKeyError\u001b[0m                                  Traceback (most recent call last)",
            "\u001b[0;32m/usr/local/lib/python3.10/dist-packages/pandas/core/indexes/base.py\u001b[0m in \u001b[0;36mget_loc\u001b[0;34m(self, key)\u001b[0m\n\u001b[1;32m   3652\u001b[0m         \u001b[0;32mtry\u001b[0m\u001b[0;34m:\u001b[0m\u001b[0;34m\u001b[0m\u001b[0;34m\u001b[0m\u001b[0m\n\u001b[0;32m-> 3653\u001b[0;31m             \u001b[0;32mreturn\u001b[0m \u001b[0mself\u001b[0m\u001b[0;34m.\u001b[0m\u001b[0m_engine\u001b[0m\u001b[0;34m.\u001b[0m\u001b[0mget_loc\u001b[0m\u001b[0;34m(\u001b[0m\u001b[0mcasted_key\u001b[0m\u001b[0;34m)\u001b[0m\u001b[0;34m\u001b[0m\u001b[0;34m\u001b[0m\u001b[0m\n\u001b[0m\u001b[1;32m   3654\u001b[0m         \u001b[0;32mexcept\u001b[0m \u001b[0mKeyError\u001b[0m \u001b[0;32mas\u001b[0m \u001b[0merr\u001b[0m\u001b[0;34m:\u001b[0m\u001b[0;34m\u001b[0m\u001b[0;34m\u001b[0m\u001b[0m\n",
            "\u001b[0;32m/usr/local/lib/python3.10/dist-packages/pandas/_libs/index.pyx\u001b[0m in \u001b[0;36mpandas._libs.index.IndexEngine.get_loc\u001b[0;34m()\u001b[0m\n",
            "\u001b[0;32m/usr/local/lib/python3.10/dist-packages/pandas/_libs/index.pyx\u001b[0m in \u001b[0;36mpandas._libs.index.IndexEngine.get_loc\u001b[0;34m()\u001b[0m\n",
            "\u001b[0;32mpandas/_libs/hashtable_class_helper.pxi\u001b[0m in \u001b[0;36mpandas._libs.hashtable.PyObjectHashTable.get_item\u001b[0;34m()\u001b[0m\n",
            "\u001b[0;32mpandas/_libs/hashtable_class_helper.pxi\u001b[0m in \u001b[0;36mpandas._libs.hashtable.PyObjectHashTable.get_item\u001b[0;34m()\u001b[0m\n",
            "\u001b[0;31mKeyError\u001b[0m: 'Gap'",
            "\nThe above exception was the direct cause of the following exception:\n",
            "\u001b[0;31mKeyError\u001b[0m                                  Traceback (most recent call last)",
            "\u001b[0;32m<ipython-input-30-1171d6ce9174>\u001b[0m in \u001b[0;36m<cell line: 35>\u001b[0;34m()\u001b[0m\n\u001b[1;32m     33\u001b[0m \u001b[0;31m# Usar o modelo para filtrar sinais de entrada\u001b[0m\u001b[0;34m\u001b[0m\u001b[0;34m\u001b[0m\u001b[0m\n\u001b[1;32m     34\u001b[0m \u001b[0mdata\u001b[0m\u001b[0;34m[\u001b[0m\u001b[0;34m'Predicted_Trend'\u001b[0m\u001b[0;34m]\u001b[0m \u001b[0;34m=\u001b[0m \u001b[0mmodel\u001b[0m\u001b[0;34m.\u001b[0m\u001b[0mpredict\u001b[0m\u001b[0;34m(\u001b[0m\u001b[0mdata\u001b[0m\u001b[0;34m[\u001b[0m\u001b[0;34m[\u001b[0m\u001b[0;34m'SMA50'\u001b[0m\u001b[0;34m]\u001b[0m\u001b[0;34m]\u001b[0m\u001b[0;34m)\u001b[0m\u001b[0;34m\u001b[0m\u001b[0;34m\u001b[0m\u001b[0m\n\u001b[0;32m---> 35\u001b[0;31m \u001b[0mdata\u001b[0m\u001b[0;34m[\u001b[0m\u001b[0;34m'EntrySignal'\u001b[0m\u001b[0;34m]\u001b[0m \u001b[0;34m=\u001b[0m \u001b[0mdata\u001b[0m\u001b[0;34m[\u001b[0m\u001b[0;34m'Predicted_Trend'\u001b[0m\u001b[0;34m]\u001b[0m \u001b[0;34m&\u001b[0m \u001b[0;34m(\u001b[0m\u001b[0mdata\u001b[0m\u001b[0;34m[\u001b[0m\u001b[0;34m'Gap'\u001b[0m\u001b[0;34m]\u001b[0m \u001b[0;34m>=\u001b[0m \u001b[0;36m0.005\u001b[0m\u001b[0;34m)\u001b[0m\u001b[0;34m.\u001b[0m\u001b[0mshift\u001b[0m\u001b[0;34m(\u001b[0m\u001b[0;36m1\u001b[0m\u001b[0;34m)\u001b[0m\u001b[0;34m\u001b[0m\u001b[0;34m\u001b[0m\u001b[0m\n\u001b[0m\u001b[1;32m     36\u001b[0m \u001b[0;34m\u001b[0m\u001b[0m\n\u001b[1;32m     37\u001b[0m \u001b[0;31m# Análise de trades com base no novo sinal\u001b[0m\u001b[0;34m\u001b[0m\u001b[0;34m\u001b[0m\u001b[0m\n",
            "\u001b[0;32m/usr/local/lib/python3.10/dist-packages/pandas/core/frame.py\u001b[0m in \u001b[0;36m__getitem__\u001b[0;34m(self, key)\u001b[0m\n\u001b[1;32m   3759\u001b[0m             \u001b[0;32mif\u001b[0m \u001b[0mself\u001b[0m\u001b[0;34m.\u001b[0m\u001b[0mcolumns\u001b[0m\u001b[0;34m.\u001b[0m\u001b[0mnlevels\u001b[0m \u001b[0;34m>\u001b[0m \u001b[0;36m1\u001b[0m\u001b[0;34m:\u001b[0m\u001b[0;34m\u001b[0m\u001b[0;34m\u001b[0m\u001b[0m\n\u001b[1;32m   3760\u001b[0m                 \u001b[0;32mreturn\u001b[0m \u001b[0mself\u001b[0m\u001b[0;34m.\u001b[0m\u001b[0m_getitem_multilevel\u001b[0m\u001b[0;34m(\u001b[0m\u001b[0mkey\u001b[0m\u001b[0;34m)\u001b[0m\u001b[0;34m\u001b[0m\u001b[0;34m\u001b[0m\u001b[0m\n\u001b[0;32m-> 3761\u001b[0;31m             \u001b[0mindexer\u001b[0m \u001b[0;34m=\u001b[0m \u001b[0mself\u001b[0m\u001b[0;34m.\u001b[0m\u001b[0mcolumns\u001b[0m\u001b[0;34m.\u001b[0m\u001b[0mget_loc\u001b[0m\u001b[0;34m(\u001b[0m\u001b[0mkey\u001b[0m\u001b[0;34m)\u001b[0m\u001b[0;34m\u001b[0m\u001b[0;34m\u001b[0m\u001b[0m\n\u001b[0m\u001b[1;32m   3762\u001b[0m             \u001b[0;32mif\u001b[0m \u001b[0mis_integer\u001b[0m\u001b[0;34m(\u001b[0m\u001b[0mindexer\u001b[0m\u001b[0;34m)\u001b[0m\u001b[0;34m:\u001b[0m\u001b[0;34m\u001b[0m\u001b[0;34m\u001b[0m\u001b[0m\n\u001b[1;32m   3763\u001b[0m                 \u001b[0mindexer\u001b[0m \u001b[0;34m=\u001b[0m \u001b[0;34m[\u001b[0m\u001b[0mindexer\u001b[0m\u001b[0;34m]\u001b[0m\u001b[0;34m\u001b[0m\u001b[0;34m\u001b[0m\u001b[0m\n",
            "\u001b[0;32m/usr/local/lib/python3.10/dist-packages/pandas/core/indexes/base.py\u001b[0m in \u001b[0;36mget_loc\u001b[0;34m(self, key)\u001b[0m\n\u001b[1;32m   3653\u001b[0m             \u001b[0;32mreturn\u001b[0m \u001b[0mself\u001b[0m\u001b[0;34m.\u001b[0m\u001b[0m_engine\u001b[0m\u001b[0;34m.\u001b[0m\u001b[0mget_loc\u001b[0m\u001b[0;34m(\u001b[0m\u001b[0mcasted_key\u001b[0m\u001b[0;34m)\u001b[0m\u001b[0;34m\u001b[0m\u001b[0;34m\u001b[0m\u001b[0m\n\u001b[1;32m   3654\u001b[0m         \u001b[0;32mexcept\u001b[0m \u001b[0mKeyError\u001b[0m \u001b[0;32mas\u001b[0m \u001b[0merr\u001b[0m\u001b[0;34m:\u001b[0m\u001b[0;34m\u001b[0m\u001b[0;34m\u001b[0m\u001b[0m\n\u001b[0;32m-> 3655\u001b[0;31m             \u001b[0;32mraise\u001b[0m \u001b[0mKeyError\u001b[0m\u001b[0;34m(\u001b[0m\u001b[0mkey\u001b[0m\u001b[0;34m)\u001b[0m \u001b[0;32mfrom\u001b[0m \u001b[0merr\u001b[0m\u001b[0;34m\u001b[0m\u001b[0;34m\u001b[0m\u001b[0m\n\u001b[0m\u001b[1;32m   3656\u001b[0m         \u001b[0;32mexcept\u001b[0m \u001b[0mTypeError\u001b[0m\u001b[0;34m:\u001b[0m\u001b[0;34m\u001b[0m\u001b[0;34m\u001b[0m\u001b[0m\n\u001b[1;32m   3657\u001b[0m             \u001b[0;31m# If we have a listlike key, _check_indexing_error will raise\u001b[0m\u001b[0;34m\u001b[0m\u001b[0;34m\u001b[0m\u001b[0m\n",
            "\u001b[0;31mKeyError\u001b[0m: 'Gap'"
          ]
        }
      ]
    },
    {
      "cell_type": "code",
      "source": [
        "import yfinance as yf\n",
        "import pandas as pd\n",
        "import numpy as np\n",
        "from sklearn.linear_model import LogisticRegression\n",
        "from sklearn.model_selection import train_test_split\n",
        "from sklearn.metrics import accuracy_score\n",
        "\n",
        "# Função para calcular o RSI - não usada diretamente aqui, mas útil se você quiser incluir análises adicionais\n",
        "def calculate_rsi(data, window=14):\n",
        "    delta = data['Close'].diff()\n",
        "    gain = (delta.where(delta > 0, 0)).rolling(window=window).mean()\n",
        "    loss = (-delta.where(delta < 0, 0)).rolling(window=window).mean()\n",
        "    rs = gain / loss\n",
        "    rsi = 100 - (100 / (1 + rs))\n",
        "    return rsi\n",
        "\n",
        "# Carregar dados de PETR4.SA usando yfinance\n",
        "data = yf.download(\"PETR4.SA\", start=\"2022-01-01\")\n",
        "\n",
        "# Preparar os dados para o modelo de machine learning\n",
        "data['SMA50'] = data['Close'].rolling(window=50).mean()\n",
        "data['Gap'] = data['Open'].shift(-1) / data['Close'] - 1  # Correção para garantir a existência da coluna 'Gap'\n",
        "data['Target'] = data['Close'].shift(-20) > data['Close']  # Comparando o preço de hoje com o preço daqui a um mês\n",
        "\n",
        "# Limpar dados NaN para garantir integridade nos dados\n",
        "data.dropna(inplace=True)\n",
        "\n",
        "# Criar features e target para o modelo\n",
        "X = data[['SMA50']]\n",
        "y = data['Target']\n",
        "\n",
        "# Dividir os dados em treino e teste\n",
        "X_train, X_test, y_train, y_test = train_test_split(X, y, test_size=0.2, random_state=42)\n",
        "\n",
        "# Treinar o modelo de classificação\n",
        "model = LogisticRegression()\n",
        "model.fit(X_train, y_train)\n",
        "\n",
        "# Avaliar o modelo\n",
        "y_pred = model.predict(X_test)\n",
        "print(f\"Accuracy: {accuracy_score(y_test, y_pred)}\")\n",
        "\n",
        "# Usar o modelo para prever a tendência e filtrar sinais de entrada\n",
        "data['Predicted_Trend'] = model.predict(data[['SMA50']])\n",
        "data.loc[:, 'EntrySignal'] = data['Predicted_Trend'] & (data['Gap'] >= 0.005).shift(1)\n",
        "\n",
        "# Definir os preços de entrada e saída\n",
        "data['EntryPrice'] = data['Open'].shift(-1)\n",
        "data['ExitPrice'] = data['Close'].shift(-1)\n",
        "data['Returns'] = np.where(data['EntrySignal'], (data['ExitPrice'] / data['EntryPrice']) - 1, 0)\n",
        "data['Returns'] = data['Returns'].fillna(0)\n",
        "data['CumulativeReturns'] = (1 + data['Returns']).cumprod() - 1\n",
        "\n",
        "# Exibir os resultados finais\n",
        "print(data[['EntrySignal', 'EntryPrice', 'ExitPrice', 'Returns', 'CumulativeReturns']].dropna())\n",
        "\n",
        "# Análise de desempenho\n",
        "total_trades = data['EntrySignal'].sum()\n",
        "average_return = data['Returns'][data['EntrySignal']].mean()\n",
        "cumulative_return = data['CumulativeReturns'].iloc[-1]\n",
        "\n",
        "print(f\"Total Trades: {total_trades}\")\n",
        "print(f\"Average Return per Trade: {average_return:.2%}\")\n",
        "print(f\"Cumulative Return: {cumulative_return:.2%}\")\n"
      ],
      "metadata": {
        "colab": {
          "base_uri": "https://localhost:8080/"
        },
        "id": "s0PjlSWAFlcG",
        "outputId": "d9795f78-a52f-4517-e26a-0bb921a8e142"
      },
      "execution_count": 33,
      "outputs": [
        {
          "output_type": "stream",
          "name": "stderr",
          "text": [
            "\r[*********************100%%**********************]  1 of 1 completed"
          ]
        },
        {
          "output_type": "stream",
          "name": "stdout",
          "text": [
            "Accuracy: 0.5277777777777778\n",
            "            EntrySignal  EntryPrice  ExitPrice   Returns  CumulativeReturns\n",
            "Date                                                                       \n",
            "2022-03-15        False   31.500000  30.830000  0.000000           0.000000\n",
            "2022-03-16         True   31.250000  30.010000 -0.039680          -0.039680\n",
            "2022-03-17         True   30.090000  30.610001  0.017282          -0.023084\n",
            "2022-03-18        False   30.910000  31.760000  0.000000          -0.023084\n",
            "2022-03-21         True   31.990000  31.620001 -0.011566          -0.034383\n",
            "...                 ...         ...        ...       ...                ...\n",
            "2024-05-02        False   40.689999  39.889999  0.000000           0.055123\n",
            "2024-05-03        False   39.869999  40.160000  0.000000           0.055123\n",
            "2024-05-06        False   40.150002  40.650002  0.000000           0.055123\n",
            "2024-05-07        False   40.349998  41.270000  0.000000           0.055123\n",
            "2024-05-08        False   41.060001  41.669998  0.000000           0.055123\n",
            "\n",
            "[537 rows x 5 columns]\n",
            "Total Trades: 131\n",
            "Average Return per Trade: 0.06%\n",
            "Cumulative Return: 5.51%\n"
          ]
        },
        {
          "output_type": "stream",
          "name": "stderr",
          "text": [
            "\n"
          ]
        }
      ]
    },
    {
      "cell_type": "code",
      "source": [
        "# integrar o RSI (Relative Strength Index) ao modelo de Random Forest para melhorar a análise\n",
        "# das entradas de compra\n",
        "import yfinance as yf\n",
        "import pandas as pd\n",
        "import numpy as np\n",
        "from sklearn.ensemble import RandomForestClassifier\n",
        "from sklearn.model_selection import train_test_split\n",
        "from sklearn.metrics import accuracy_score\n",
        "\n",
        "# Função para calcular o RSI\n",
        "def calculate_rsi(data, window=14):\n",
        "    delta = data['Close'].diff()\n",
        "    gain = (delta.where(delta > 0, 0)).rolling(window=window).mean()\n",
        "    loss = (-delta.where(delta < 0, 0)).rolling(window=window).mean()\n",
        "    rs = gain / loss\n",
        "    rsi = 100 - (100 / (1 + rs))\n",
        "    return rsi\n",
        "\n",
        "# Carregar dados de PETR4.SA usando yfinance\n",
        "data = yf.download(\"PETR4.SA\", start=\"2020-01-01\")\n",
        "\n",
        "# Preparar os dados para o modelo de machine learning\n",
        "data['SMA50'] = data['Close'].rolling(window=50).mean()\n",
        "data['Gap'] = data['Open'].shift(-1) / data['Close'] - 1\n",
        "data['Target'] = data['Close'].shift(-20) > data['Close']\n",
        "\n",
        "# Limpar dados NaN\n",
        "data.dropna(inplace=True)\n",
        "\n",
        "# Criar features e target\n",
        "X = data[['SMA50']]\n",
        "y = data['Target']\n",
        "\n",
        "# Dividir os dados em treino e teste\n",
        "X_train, X_test, y_train, y_test = train_test_split(X, y, test_size=0.2, random_state=42)\n",
        "\n",
        "# Treinar o modelo de classificação com Random Forest\n",
        "model = RandomForestClassifier(n_estimators=100, random_state=42)\n",
        "model.fit(X_train, y_train)\n",
        "\n",
        "# Avaliar o modelo\n",
        "y_pred = model.predict(X_test)\n",
        "print(f\"Accuracy: {accuracy_score(y_test, y_pred)}\")\n",
        "\n",
        "# Usar o modelo para prever a tendência e filtrar sinais de entrada\n",
        "data['Predicted_Trend'] = model.predict(data[['SMA50']])\n",
        "data.loc[:, 'EntrySignal'] = data['Predicted_Trend'] & (data['Gap'] >= 0.005).shift(1)\n",
        "\n",
        "# Definir os preços de entrada e saída\n",
        "data['EntryPrice'] = data['Open'].shift(-1)\n",
        "data['ExitPrice'] = data['Close'].shift(-1)\n",
        "data['Returns'] = np.where(data['EntrySignal'], (data['ExitPrice'] / data['EntryPrice']) - 1, 0)\n",
        "data['Returns'] = data['Returns'].fillna(0)\n",
        "data['CumulativeReturns'] = (1 + data['Returns']).cumprod() - 1\n",
        "\n",
        "# Exibir os resultados finais\n",
        "print(data[['EntrySignal', 'EntryPrice', 'ExitPrice', 'Returns', 'CumulativeReturns']].dropna())\n",
        "\n",
        "# Análise de desempenho\n",
        "total_trades = data['EntrySignal'].sum()\n",
        "average_return = data['Returns'][data['EntrySignal']].mean()\n",
        "cumulative_return = data['CumulativeReturns'].iloc[-1]\n",
        "\n",
        "print(f\"Total Trades: {total_trades}\")\n",
        "print(f\"Average Return per Trade: {average_return:.2%}\")\n",
        "print(f\"Cumulative Return: {cumulative_return:.2%}\")\n"
      ],
      "metadata": {
        "colab": {
          "base_uri": "https://localhost:8080/"
        },
        "id": "I8dgW_zfaYL1",
        "outputId": "c8139232-df38-4624-b6d3-00577cdc6472"
      },
      "execution_count": 36,
      "outputs": [
        {
          "output_type": "stream",
          "name": "stderr",
          "text": [
            "\r[*********************100%%**********************]  1 of 1 completed\n"
          ]
        },
        {
          "output_type": "stream",
          "name": "stdout",
          "text": [
            "Accuracy: 0.5700483091787439\n",
            "            EntrySignal  EntryPrice  ExitPrice  Returns  CumulativeReturns\n",
            "Date                                                                      \n",
            "2020-03-13        False   12.910000  13.090000      0.0           0.000000\n",
            "2020-03-16        False   13.600000  13.000000      0.0           0.000000\n",
            "2020-03-17        False   11.790000  11.290000      0.0           0.000000\n",
            "2020-03-18        False   11.070000  12.210000      0.0           0.000000\n",
            "2020-03-19        False   13.110000  12.000000      0.0           0.000000\n",
            "...                 ...         ...        ...      ...                ...\n",
            "2024-05-02        False   40.689999  39.889999      0.0           0.189851\n",
            "2024-05-03        False   39.869999  40.160000      0.0           0.189851\n",
            "2024-05-06        False   40.150002  40.650002      0.0           0.189851\n",
            "2024-05-07        False   40.349998  41.270000      0.0           0.189851\n",
            "2024-05-08        False   41.060001  41.669998      0.0           0.189851\n",
            "\n",
            "[1032 rows x 5 columns]\n",
            "Total Trades: 216\n",
            "Average Return per Trade: 0.10%\n",
            "Cumulative Return: 18.99%\n"
          ]
        }
      ]
    },
    {
      "cell_type": "code",
      "source": [
        "# RSI e sua utilização como uma das features para o modelo de Random Forest\n",
        "import yfinance as yf\n",
        "import pandas as pd\n",
        "import numpy as np\n",
        "from sklearn.ensemble import RandomForestClassifier\n",
        "from sklearn.model_selection import train_test_split\n",
        "from sklearn.metrics import accuracy_score\n",
        "\n",
        "# Função para calcular o RSI\n",
        "def calculate_rsi(data, window=14):\n",
        "    delta = data['Close'].diff()\n",
        "    gain = (delta.where(delta > 0, 0)).rolling(window=window).mean()\n",
        "    loss = (-delta.where(delta < 0, 0)).rolling(window=window).mean()\n",
        "    rs = gain / loss\n",
        "    rsi = 100 - (100 / (1 + rs))\n",
        "    return rsi\n",
        "\n",
        "# Carregar dados de PETR4.SA usando yfinance\n",
        "data = yf.download(\"PETR4.SA\", start=\"2022-01-01\")\n",
        "\n",
        "# Preparar os dados para o modelo de machine learning\n",
        "data['SMA50'] = data['Close'].rolling(window=50).mean()\n",
        "data['RSI'] = calculate_rsi(data)  # Calcular o RSI e adicioná-lo ao DataFrame\n",
        "data['Gap'] = data['Open'].shift(-1) / data['Close'] - 1\n",
        "data['Target'] = data['Close'].shift(-20) > data['Close']\n",
        "\n",
        "# Limpar dados NaN\n",
        "data.dropna(inplace=True)\n",
        "\n",
        "# Criar features e target para o modelo\n",
        "X = data[['SMA50', 'RSI']]  # Adicionando RSI como uma feature\n",
        "y = data['Target']\n",
        "\n",
        "# Dividir os dados em treino e teste\n",
        "X_train, X_test, y_train, y_test = train_test_split(X, y, test_size=0.2, random_state=42)\n",
        "\n",
        "# Treinar o modelo de classificação com Random Forest\n",
        "model = RandomForestClassifier(n_estimators=100, random_state=42)\n",
        "model.fit(X_train, y_train)\n",
        "\n",
        "# Avaliar o modelo\n",
        "y_pred = model.predict(X_test)\n",
        "print(f\"Accuracy: {accuracy_score(y_test, y_pred)}\")\n",
        "\n",
        "# Usar o modelo para prever a tendência e filtrar sinais de entrada\n",
        "data['Predicted_Trend'] = model.predict(data[['SMA50', 'RSI']])\n",
        "data.loc[:, 'EntrySignal'] = data['Predicted_Trend'] & (data['Gap'] >= 0.005).shift(1)\n",
        "\n",
        "# Definir os preços de entrada e saída\n",
        "data['EntryPrice'] = data['Open'].shift(-1)\n",
        "data['ExitPrice'] = data['Close'].shift(-1)\n",
        "data['Returns'] = np.where(data['EntrySignal'], (data['ExitPrice'] / data['EntryPrice']) - 1, 0)\n",
        "data['Returns'] = data['Returns'].fillna(0)\n",
        "data['CumulativeReturns'] = (1 + data['Returns']).cumprod() - 1\n",
        "\n",
        "# Exibir os resultados finais\n",
        "print(data[['EntrySignal', 'EntryPrice', 'ExitPrice', 'Returns', 'CumulativeReturns']].dropna())\n",
        "\n",
        "# Análise de desempenho\n",
        "total_trades = data['EntrySignal'].sum()\n",
        "average_return = data['Returns'][data['EntrySignal']].mean()\n",
        "cumulative_return = data['CumulativeReturns'].iloc[-1]\n",
        "\n",
        "print(f\"Total Trades: {total_trades}\")\n",
        "print(f\"Average Return per Trade: {average_return:.2%}\")\n",
        "print(f\"Cumulative Return: {cumulative_return:.2%}\")\n"
      ],
      "metadata": {
        "colab": {
          "base_uri": "https://localhost:8080/"
        },
        "id": "B1QM3p9FbOee",
        "outputId": "cf8a2fda-16f5-4b3e-aa00-94588c4a39d3"
      },
      "execution_count": 37,
      "outputs": [
        {
          "output_type": "stream",
          "name": "stderr",
          "text": [
            "\r[*********************100%%**********************]  1 of 1 completed\n"
          ]
        },
        {
          "output_type": "stream",
          "name": "stdout",
          "text": [
            "Accuracy: 0.7685185185185185\n",
            "            EntrySignal  EntryPrice  ExitPrice  Returns  CumulativeReturns\n",
            "Date                                                                      \n",
            "2022-03-15        False   31.500000  30.830000  0.00000           0.000000\n",
            "2022-03-16         True   31.250000  30.010000 -0.03968          -0.039680\n",
            "2022-03-17        False   30.090000  30.610001  0.00000          -0.039680\n",
            "2022-03-18        False   30.910000  31.760000  0.00000          -0.039680\n",
            "2022-03-21        False   31.990000  31.620001  0.00000          -0.039680\n",
            "...                 ...         ...        ...      ...                ...\n",
            "2024-05-02        False   40.689999  39.889999  0.00000           0.048084\n",
            "2024-05-03        False   39.869999  40.160000  0.00000           0.048084\n",
            "2024-05-06        False   40.150002  40.650002  0.00000           0.048084\n",
            "2024-05-07        False   40.349998  41.270000  0.00000           0.048084\n",
            "2024-05-08        False   41.060001  41.669998  0.00000           0.048084\n",
            "\n",
            "[537 rows x 5 columns]\n",
            "Total Trades: 77\n",
            "Average Return per Trade: 0.08%\n",
            "Cumulative Return: 4.81%\n"
          ]
        }
      ]
    },
    {
      "cell_type": "code",
      "source": [
        "#  MACD e sua utilização como uma das features para o modelo de Random Forest\n",
        "import yfinance as yf\n",
        "import pandas as pd\n",
        "import numpy as np\n",
        "from sklearn.ensemble import RandomForestClassifier\n",
        "from sklearn.model_selection import train_test_split\n",
        "from sklearn.metrics import accuracy_score\n",
        "\n",
        "# Função para calcular o MACD\n",
        "def calculate_macd(data, slow=26, fast=12, signal=9):\n",
        "    data['EMA_fast'] = data['Close'].ewm(span=fast, adjust=False).mean()\n",
        "    data['EMA_slow'] = data['Close'].ewm(span=slow, adjust=False).mean()\n",
        "    data['MACD'] = data['EMA_fast'] - data['EMA_slow']\n",
        "    data['Signal'] = data['MACD'].ewm(span=signal, adjust=False).mean()\n",
        "    data['MACD_Histogram'] = data['MACD'] - data['Signal']\n",
        "    return data\n",
        "\n",
        "# Carregar dados de PETR4.SA usando yfinance\n",
        "data = yf.download(\"PETR4.SA\", start=\"2020-01-01\")\n",
        "\n",
        "# Preparar os dados para o modelo de machine learning\n",
        "calculate_macd(data)\n",
        "data['SMA50'] = data['Close'].rolling(window=50).mean()\n",
        "data['Gap'] = data['Open'].shift(-1) / data['Close'] - 1\n",
        "data['Target'] = data['Close'].shift(-20) > data['Close']\n",
        "\n",
        "# Limpar dados NaN\n",
        "data.dropna(inplace=True)\n",
        "\n",
        "# Criar features e target para o modelo\n",
        "X = data[['SMA50', 'MACD', 'Signal', 'MACD_Histogram']]\n",
        "y = data['Target']\n",
        "\n",
        "# Dividir os dados em treino e teste\n",
        "X_train, X_test, y_train, y_test = train_test_split(X, y, test_size=0.2, random_state=42)\n",
        "\n",
        "# Treinar o modelo de classificação com Random Forest\n",
        "model = RandomForestClassifier(n_estimators=100, random_state=42)\n",
        "model.fit(X_train, y_train)\n",
        "\n",
        "# Avaliar o modelo\n",
        "y_pred = model.predict(X_test)\n",
        "print(f\"Accuracy: {accuracy_score(y_test, y_pred)}\")\n",
        "\n",
        "# Usar o modelo para prever a tendência e filtrar sinais de entrada\n",
        "data['Predicted_Trend'] = model.predict(data[['SMA50', 'MACD', 'Signal', 'MACD_Histogram']])\n",
        "data.loc[:, 'EntrySignal'] = data['Predicted_Trend'] & (data['Gap'] >= 0.005).shift(1)\n",
        "\n",
        "# Definir os preços de entrada e saída\n",
        "data['EntryPrice'] = data['Open'].shift(-1)\n",
        "data['ExitPrice'] = data['Close'].shift(-1)\n",
        "data['Returns'] = np.where(data['EntrySignal'], (data['ExitPrice'] / data['EntryPrice']) - 1, 0)\n",
        "data['Returns'] = data['Returns'].fillna(0)\n",
        "data['CumulativeReturns'] = (1 + data['Returns']).cumprod() - 1\n",
        "\n",
        "# Exibir os resultados finais\n",
        "print(data[['EntrySignal', 'EntryPrice', 'ExitPrice', 'Returns', 'CumulativeReturns']].dropna())\n",
        "\n",
        "# Análise de desempenho\n",
        "total_trades = data['EntrySignal'].sum()\n",
        "average_return = data['Returns'][data['EntrySignal']].mean()\n",
        "cumulative_return = data['CumulativeReturns'].iloc[-1]\n",
        "\n",
        "print(f\"Total Trades: {total_trades}\")\n",
        "print(f\"Average Return per Trade: {average_return:.2%}\")\n",
        "print(f\"Cumulative Return: {cumulative_return:.2%}\")\n"
      ],
      "metadata": {
        "colab": {
          "base_uri": "https://localhost:8080/"
        },
        "id": "H3-cTU4kbxWj",
        "outputId": "9db2c88f-8f2f-4a97-f7b0-7ba27baea6b7"
      },
      "execution_count": 40,
      "outputs": [
        {
          "output_type": "stream",
          "name": "stderr",
          "text": [
            "\r[*********************100%%**********************]  1 of 1 completed\n"
          ]
        },
        {
          "output_type": "stream",
          "name": "stdout",
          "text": [
            "Accuracy: 0.8840579710144928\n",
            "            EntrySignal  EntryPrice  ExitPrice   Returns  CumulativeReturns\n",
            "Date                                                                       \n",
            "2020-03-13        False   12.910000  13.090000  0.000000           0.000000\n",
            "2020-03-16        False   13.600000  13.000000  0.000000           0.000000\n",
            "2020-03-17         True   11.790000  11.290000 -0.042409          -0.042409\n",
            "2020-03-18        False   11.070000  12.210000  0.000000          -0.042409\n",
            "2020-03-19        False   13.110000  12.000000  0.000000          -0.042409\n",
            "...                 ...         ...        ...       ...                ...\n",
            "2024-05-02        False   40.689999  39.889999  0.000000           0.041552\n",
            "2024-05-03        False   39.869999  40.160000  0.000000           0.041552\n",
            "2024-05-06        False   40.150002  40.650002  0.000000           0.041552\n",
            "2024-05-07        False   40.349998  41.270000  0.000000           0.041552\n",
            "2024-05-08        False   41.060001  41.669998  0.000000           0.041552\n",
            "\n",
            "[1032 rows x 5 columns]\n",
            "Total Trades: 211\n",
            "Average Return per Trade: 0.04%\n",
            "Cumulative Return: 4.16%\n"
          ]
        }
      ]
    },
    {
      "cell_type": "code",
      "source": [
        "# RSI (Relative Strength Index) e stop-loss no modelo de Random Forest para melhorar a análise\n",
        "# das entradas de compra\n",
        "import yfinance as yf\n",
        "import pandas as pd\n",
        "import numpy as np\n",
        "from sklearn.ensemble import RandomForestClassifier\n",
        "from sklearn.model_selection import train_test_split\n",
        "from sklearn.metrics import accuracy_score\n",
        "\n",
        "# Função para calcular o RSI\n",
        "def calculate_rsi(data, window=14):\n",
        "    delta = data['Close'].diff()\n",
        "    gain = (delta.where(delta > 0, 0)).rolling(window=window).mean()\n",
        "    loss = (-delta.where(delta < 0, 0)).rolling(window=window).mean()\n",
        "    rs = gain / loss\n",
        "    rsi = 100 - (100 / (1 + rs))\n",
        "    return rsi\n",
        "\n",
        "# Carregar dados de PETR4.SA usando yfinance\n",
        "data = yf.download(\"wege3.SA\", start=\"2020-01-01\")\n",
        "\n",
        "# Preparar os dados para o modelo de machine learning\n",
        "data['SMA50'] = data['Close'].rolling(window=50).mean()\n",
        "data['Gap'] = data['Open'].shift(-1) / data['Close'] - 1\n",
        "data['Target'] = data['Close'].shift(-20) > data['Close']\n",
        "\n",
        "# Limpar dados NaN\n",
        "data.dropna(inplace=True)\n",
        "\n",
        "# Criar features e target\n",
        "X = data[['SMA50']]\n",
        "y = data['Target']\n",
        "\n",
        "# Dividir os dados em treino e teste\n",
        "X_train, X_test, y_train, y_test = train_test_split(X, y, test_size=0.2, random_state=42)\n",
        "\n",
        "# Treinar o modelo de classificação com Random Forest\n",
        "model = RandomForestClassifier(n_estimators=100, random_state=42)\n",
        "model.fit(X_train, y_train)\n",
        "\n",
        "# Avaliar o modelo\n",
        "y_pred = model.predict(X_test)\n",
        "print(f\"Accuracy: {accuracy_score(y_test, y_pred)}\")\n",
        "\n",
        "# Usar o modelo para prever a tendência e filtrar sinais de entrada\n",
        "data['Predicted_Trend'] = model.predict(data[['SMA50']])\n",
        "data.loc[:, 'EntrySignal'] = data['Predicted_Trend'] & (data['Gap'] >= 0.005).shift(1)\n",
        "\n",
        "# Definir os preços de entrada e saída\n",
        "data['EntryPrice'] = data['Open'].shift(-1)\n",
        "data['ExitPrice'] = data['Close'].shift(-1)\n",
        "\n",
        "# Calcular retorno potencial e aplicar stop-loss\n",
        "stop_loss_threshold = -0.02  # -2%\n",
        "data['Potential_Return'] = (data['ExitPrice'] / data['EntryPrice']) - 1\n",
        "data['Stop_Loss'] = data['Potential_Return'] < stop_loss_threshold\n",
        "data['Actual_Return'] = np.where(data['Stop_Loss'], stop_loss_threshold, data['Potential_Return'])\n",
        "\n",
        "# Atualizar o cálculo de retornos cumulativos considerando o stop-loss\n",
        "data['CumulativeReturns'] = (1 + data['Actual_Return']).cumprod() - 1\n",
        "\n",
        "# Exibir os resultados finais\n",
        "print(data[['EntrySignal', 'EntryPrice', 'ExitPrice', 'Actual_Return', 'CumulativeReturns']].dropna())\n",
        "\n",
        "# Análise de desempenho\n",
        "total_trades = data['EntrySignal'].sum()\n",
        "average_return = data['Actual_Return'][data['EntrySignal']].mean()\n",
        "cumulative_return = data['CumulativeReturns'].iloc[-1]\n",
        "\n",
        "print(f\"Total Trades: {total_trades}\")\n",
        "print(f\"Average Return per Trade: {average_return:.2%}\")\n",
        "print(f\"Cumulative Return: {cumulative_return:.2%}\")\n"
      ],
      "metadata": {
        "colab": {
          "base_uri": "https://localhost:8080/"
        },
        "id": "99PoDOm7cn0U",
        "outputId": "b972694f-0960-4c80-f061-cf5686cfcd64"
      },
      "execution_count": 44,
      "outputs": [
        {
          "output_type": "stream",
          "name": "stderr",
          "text": [
            "\r[*********************100%%**********************]  1 of 1 completed\n"
          ]
        },
        {
          "output_type": "stream",
          "name": "stdout",
          "text": [
            "Accuracy: 0.5748792270531401\n",
            "            EntrySignal  EntryPrice  ExitPrice  Actual_Return  \\\n",
            "Date                                                            \n",
            "2020-03-13        False   15.840000  13.705000      -0.040000   \n",
            "2020-03-16        False   14.255000  14.340000       0.005963   \n",
            "2020-03-17         True   12.950000  13.235000       0.022008   \n",
            "2020-03-18        False   13.115000  14.365000       0.095311   \n",
            "2020-03-19        False   15.575000  16.184999       0.039165   \n",
            "...                 ...         ...        ...            ...   \n",
            "2024-05-02        False   38.990002  38.770000      -0.005643   \n",
            "2024-05-03        False   38.610001  38.630001       0.000518   \n",
            "2024-05-06        False   38.599998  38.900002       0.007772   \n",
            "2024-05-07        False   38.700001  39.090000       0.010078   \n",
            "2024-05-08        False   38.669998  38.900002       0.005948   \n",
            "\n",
            "            CumulativeReturns  \n",
            "Date                           \n",
            "2020-03-13          -0.040000  \n",
            "2020-03-16          -0.034276  \n",
            "2020-03-17          -0.013022  \n",
            "2020-03-18           0.081047  \n",
            "2020-03-19           0.123387  \n",
            "...                       ...  \n",
            "2024-05-02          -0.129337  \n",
            "2024-05-03          -0.128886  \n",
            "2024-05-06          -0.122116  \n",
            "2024-05-07          -0.113269  \n",
            "2024-05-08          -0.107995  \n",
            "\n",
            "[1032 rows x 5 columns]\n",
            "Total Trades: 132\n",
            "Average Return per Trade: 0.09%\n",
            "Cumulative Return: nan%\n"
          ]
        }
      ]
    },
    {
      "cell_type": "code",
      "source": [],
      "metadata": {
        "id": "JizQG4SSeztM"
      },
      "execution_count": null,
      "outputs": []
    }
  ]
}