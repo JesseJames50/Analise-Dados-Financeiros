{
  "nbformat": 4,
  "nbformat_minor": 0,
  "metadata": {
    "colab": {
      "provenance": [],
      "authorship_tag": "ABX9TyNN7u7p545VxJpHwk11Ah36",
      "include_colab_link": true
    },
    "kernelspec": {
      "name": "python3",
      "display_name": "Python 3"
    },
    "language_info": {
      "name": "python"
    }
  },
  "cells": [
    {
      "cell_type": "markdown",
      "metadata": {
        "id": "view-in-github",
        "colab_type": "text"
      },
      "source": [
        "<a href=\"https://colab.research.google.com/github/JesseJames50/Analise-Dados-Financeiros/blob/main/suporte_e_resist%C3%AAncia.ipynb\" target=\"_parent\"><img src=\"https://colab.research.google.com/assets/colab-badge.svg\" alt=\"Open In Colab\"/></a>"
      ]
    },
    {
      "cell_type": "code",
      "execution_count": 1,
      "metadata": {
        "colab": {
          "base_uri": "https://localhost:8080/"
        },
        "id": "f7YYzTl4m3PU",
        "outputId": "93d864ad-4710-4454-cab3-35dab62876fb"
      },
      "outputs": [
        {
          "output_type": "stream",
          "name": "stdout",
          "text": [
            "\u001b[?25l     \u001b[90m━━━━━━━━━━━━━━━━━━━━━━━━━━━━━━━━━━━━━━━━\u001b[0m \u001b[32m0.0/75.0 kB\u001b[0m \u001b[31m?\u001b[0m eta \u001b[36m-:--:--\u001b[0m\r\u001b[2K     \u001b[91m━━━━━━━━━━━━━━━━━━━━━━━━━━━━━━━━━━━━━━\u001b[0m\u001b[90m╺\u001b[0m\u001b[90m━\u001b[0m \u001b[32m71.7/75.0 kB\u001b[0m \u001b[31m2.2 MB/s\u001b[0m eta \u001b[36m0:00:01\u001b[0m\r\u001b[2K     \u001b[90m━━━━━━━━━━━━━━━━━━━━━━━━━━━━━━━━━━━━━━━━\u001b[0m \u001b[32m75.0/75.0 kB\u001b[0m \u001b[31m1.6 MB/s\u001b[0m eta \u001b[36m0:00:00\u001b[0m\n",
            "\u001b[?25h"
          ]
        }
      ],
      "source": [
        "# Instalação das bibliotecas\n",
        "!pip install -q yfinance\n",
        "!pip install --upgrade -q mplfinance"
      ]
    },
    {
      "cell_type": "code",
      "source": [
        "# Importação das bibliotecas\n",
        "import yfinance as yf\n",
        "import mplfinance as mpf"
      ],
      "metadata": {
        "id": "VgDEXpOunGHH"
      },
      "execution_count": 2,
      "outputs": []
    },
    {
      "cell_type": "code",
      "source": [
        "# Baixando os dados da ação\n",
        "ticker = 'PETR4.SA'\n",
        "start = '2021-01-01'\n",
        "end = '2021-09-15'\n",
        "df = yf.download(ticker, start, end)\n",
        "df"
      ],
      "metadata": {
        "colab": {
          "base_uri": "https://localhost:8080/",
          "height": 472
        },
        "id": "qbU3O-PhnGKR",
        "outputId": "e9d607e3-5eaa-435c-b88f-3c06ae68ef14"
      },
      "execution_count": 3,
      "outputs": [
        {
          "output_type": "stream",
          "name": "stderr",
          "text": [
            "\r[*********************100%%**********************]  1 of 1 completed\n"
          ]
        },
        {
          "output_type": "execute_result",
          "data": {
            "text/plain": [
              "                 Open       High        Low      Close  Adj Close     Volume\n",
              "Date                                                                        \n",
              "2021-01-04  28.650000  29.180000  28.530001  28.910000  10.592276   74719700\n",
              "2021-01-05  28.900000  30.180000  28.240000  30.040001  11.006294   95181100\n",
              "2021-01-06  30.160000  30.900000  30.049999  30.100000  11.028276   96562500\n",
              "2021-01-07  30.340000  31.150000  30.340000  31.000000  11.358027   56171300\n",
              "2021-01-08  31.459999  31.760000  30.350000  31.120001  11.401993   67136300\n",
              "...               ...        ...        ...        ...        ...        ...\n",
              "2021-09-08  26.290001  26.350000  24.790001  24.969999  10.019848   80378400\n",
              "2021-09-09  25.080000  25.879999  24.139999  25.500000  10.232526  156617100\n",
              "2021-09-10  26.020000  26.139999  25.330000  25.340000  10.168322   78379900\n",
              "2021-09-13  25.799999  26.389999  25.639999  26.230000  10.525455   63317900\n",
              "2021-09-14  25.950001  26.250000  25.719999  25.879999  10.385010   65497300\n",
              "\n",
              "[174 rows x 6 columns]"
            ],
            "text/html": [
              "\n",
              "  <div id=\"df-0ad15827-268c-4d1c-9e64-6aed25e8df5c\" class=\"colab-df-container\">\n",
              "    <div>\n",
              "<style scoped>\n",
              "    .dataframe tbody tr th:only-of-type {\n",
              "        vertical-align: middle;\n",
              "    }\n",
              "\n",
              "    .dataframe tbody tr th {\n",
              "        vertical-align: top;\n",
              "    }\n",
              "\n",
              "    .dataframe thead th {\n",
              "        text-align: right;\n",
              "    }\n",
              "</style>\n",
              "<table border=\"1\" class=\"dataframe\">\n",
              "  <thead>\n",
              "    <tr style=\"text-align: right;\">\n",
              "      <th></th>\n",
              "      <th>Open</th>\n",
              "      <th>High</th>\n",
              "      <th>Low</th>\n",
              "      <th>Close</th>\n",
              "      <th>Adj Close</th>\n",
              "      <th>Volume</th>\n",
              "    </tr>\n",
              "    <tr>\n",
              "      <th>Date</th>\n",
              "      <th></th>\n",
              "      <th></th>\n",
              "      <th></th>\n",
              "      <th></th>\n",
              "      <th></th>\n",
              "      <th></th>\n",
              "    </tr>\n",
              "  </thead>\n",
              "  <tbody>\n",
              "    <tr>\n",
              "      <th>2021-01-04</th>\n",
              "      <td>28.650000</td>\n",
              "      <td>29.180000</td>\n",
              "      <td>28.530001</td>\n",
              "      <td>28.910000</td>\n",
              "      <td>10.592276</td>\n",
              "      <td>74719700</td>\n",
              "    </tr>\n",
              "    <tr>\n",
              "      <th>2021-01-05</th>\n",
              "      <td>28.900000</td>\n",
              "      <td>30.180000</td>\n",
              "      <td>28.240000</td>\n",
              "      <td>30.040001</td>\n",
              "      <td>11.006294</td>\n",
              "      <td>95181100</td>\n",
              "    </tr>\n",
              "    <tr>\n",
              "      <th>2021-01-06</th>\n",
              "      <td>30.160000</td>\n",
              "      <td>30.900000</td>\n",
              "      <td>30.049999</td>\n",
              "      <td>30.100000</td>\n",
              "      <td>11.028276</td>\n",
              "      <td>96562500</td>\n",
              "    </tr>\n",
              "    <tr>\n",
              "      <th>2021-01-07</th>\n",
              "      <td>30.340000</td>\n",
              "      <td>31.150000</td>\n",
              "      <td>30.340000</td>\n",
              "      <td>31.000000</td>\n",
              "      <td>11.358027</td>\n",
              "      <td>56171300</td>\n",
              "    </tr>\n",
              "    <tr>\n",
              "      <th>2021-01-08</th>\n",
              "      <td>31.459999</td>\n",
              "      <td>31.760000</td>\n",
              "      <td>30.350000</td>\n",
              "      <td>31.120001</td>\n",
              "      <td>11.401993</td>\n",
              "      <td>67136300</td>\n",
              "    </tr>\n",
              "    <tr>\n",
              "      <th>...</th>\n",
              "      <td>...</td>\n",
              "      <td>...</td>\n",
              "      <td>...</td>\n",
              "      <td>...</td>\n",
              "      <td>...</td>\n",
              "      <td>...</td>\n",
              "    </tr>\n",
              "    <tr>\n",
              "      <th>2021-09-08</th>\n",
              "      <td>26.290001</td>\n",
              "      <td>26.350000</td>\n",
              "      <td>24.790001</td>\n",
              "      <td>24.969999</td>\n",
              "      <td>10.019848</td>\n",
              "      <td>80378400</td>\n",
              "    </tr>\n",
              "    <tr>\n",
              "      <th>2021-09-09</th>\n",
              "      <td>25.080000</td>\n",
              "      <td>25.879999</td>\n",
              "      <td>24.139999</td>\n",
              "      <td>25.500000</td>\n",
              "      <td>10.232526</td>\n",
              "      <td>156617100</td>\n",
              "    </tr>\n",
              "    <tr>\n",
              "      <th>2021-09-10</th>\n",
              "      <td>26.020000</td>\n",
              "      <td>26.139999</td>\n",
              "      <td>25.330000</td>\n",
              "      <td>25.340000</td>\n",
              "      <td>10.168322</td>\n",
              "      <td>78379900</td>\n",
              "    </tr>\n",
              "    <tr>\n",
              "      <th>2021-09-13</th>\n",
              "      <td>25.799999</td>\n",
              "      <td>26.389999</td>\n",
              "      <td>25.639999</td>\n",
              "      <td>26.230000</td>\n",
              "      <td>10.525455</td>\n",
              "      <td>63317900</td>\n",
              "    </tr>\n",
              "    <tr>\n",
              "      <th>2021-09-14</th>\n",
              "      <td>25.950001</td>\n",
              "      <td>26.250000</td>\n",
              "      <td>25.719999</td>\n",
              "      <td>25.879999</td>\n",
              "      <td>10.385010</td>\n",
              "      <td>65497300</td>\n",
              "    </tr>\n",
              "  </tbody>\n",
              "</table>\n",
              "<p>174 rows × 6 columns</p>\n",
              "</div>\n",
              "    <div class=\"colab-df-buttons\">\n",
              "\n",
              "  <div class=\"colab-df-container\">\n",
              "    <button class=\"colab-df-convert\" onclick=\"convertToInteractive('df-0ad15827-268c-4d1c-9e64-6aed25e8df5c')\"\n",
              "            title=\"Convert this dataframe to an interactive table.\"\n",
              "            style=\"display:none;\">\n",
              "\n",
              "  <svg xmlns=\"http://www.w3.org/2000/svg\" height=\"24px\" viewBox=\"0 -960 960 960\">\n",
              "    <path d=\"M120-120v-720h720v720H120Zm60-500h600v-160H180v160Zm220 220h160v-160H400v160Zm0 220h160v-160H400v160ZM180-400h160v-160H180v160Zm440 0h160v-160H620v160ZM180-180h160v-160H180v160Zm440 0h160v-160H620v160Z\"/>\n",
              "  </svg>\n",
              "    </button>\n",
              "\n",
              "  <style>\n",
              "    .colab-df-container {\n",
              "      display:flex;\n",
              "      gap: 12px;\n",
              "    }\n",
              "\n",
              "    .colab-df-convert {\n",
              "      background-color: #E8F0FE;\n",
              "      border: none;\n",
              "      border-radius: 50%;\n",
              "      cursor: pointer;\n",
              "      display: none;\n",
              "      fill: #1967D2;\n",
              "      height: 32px;\n",
              "      padding: 0 0 0 0;\n",
              "      width: 32px;\n",
              "    }\n",
              "\n",
              "    .colab-df-convert:hover {\n",
              "      background-color: #E2EBFA;\n",
              "      box-shadow: 0px 1px 2px rgba(60, 64, 67, 0.3), 0px 1px 3px 1px rgba(60, 64, 67, 0.15);\n",
              "      fill: #174EA6;\n",
              "    }\n",
              "\n",
              "    .colab-df-buttons div {\n",
              "      margin-bottom: 4px;\n",
              "    }\n",
              "\n",
              "    [theme=dark] .colab-df-convert {\n",
              "      background-color: #3B4455;\n",
              "      fill: #D2E3FC;\n",
              "    }\n",
              "\n",
              "    [theme=dark] .colab-df-convert:hover {\n",
              "      background-color: #434B5C;\n",
              "      box-shadow: 0px 1px 3px 1px rgba(0, 0, 0, 0.15);\n",
              "      filter: drop-shadow(0px 1px 2px rgba(0, 0, 0, 0.3));\n",
              "      fill: #FFFFFF;\n",
              "    }\n",
              "  </style>\n",
              "\n",
              "    <script>\n",
              "      const buttonEl =\n",
              "        document.querySelector('#df-0ad15827-268c-4d1c-9e64-6aed25e8df5c button.colab-df-convert');\n",
              "      buttonEl.style.display =\n",
              "        google.colab.kernel.accessAllowed ? 'block' : 'none';\n",
              "\n",
              "      async function convertToInteractive(key) {\n",
              "        const element = document.querySelector('#df-0ad15827-268c-4d1c-9e64-6aed25e8df5c');\n",
              "        const dataTable =\n",
              "          await google.colab.kernel.invokeFunction('convertToInteractive',\n",
              "                                                    [key], {});\n",
              "        if (!dataTable) return;\n",
              "\n",
              "        const docLinkHtml = 'Like what you see? Visit the ' +\n",
              "          '<a target=\"_blank\" href=https://colab.research.google.com/notebooks/data_table.ipynb>data table notebook</a>'\n",
              "          + ' to learn more about interactive tables.';\n",
              "        element.innerHTML = '';\n",
              "        dataTable['output_type'] = 'display_data';\n",
              "        await google.colab.output.renderOutput(dataTable, element);\n",
              "        const docLink = document.createElement('div');\n",
              "        docLink.innerHTML = docLinkHtml;\n",
              "        element.appendChild(docLink);\n",
              "      }\n",
              "    </script>\n",
              "  </div>\n",
              "\n",
              "\n",
              "<div id=\"df-12b03d9d-24fc-4646-9f5c-19d602126ff6\">\n",
              "  <button class=\"colab-df-quickchart\" onclick=\"quickchart('df-12b03d9d-24fc-4646-9f5c-19d602126ff6')\"\n",
              "            title=\"Suggest charts\"\n",
              "            style=\"display:none;\">\n",
              "\n",
              "<svg xmlns=\"http://www.w3.org/2000/svg\" height=\"24px\"viewBox=\"0 0 24 24\"\n",
              "     width=\"24px\">\n",
              "    <g>\n",
              "        <path d=\"M19 3H5c-1.1 0-2 .9-2 2v14c0 1.1.9 2 2 2h14c1.1 0 2-.9 2-2V5c0-1.1-.9-2-2-2zM9 17H7v-7h2v7zm4 0h-2V7h2v10zm4 0h-2v-4h2v4z\"/>\n",
              "    </g>\n",
              "</svg>\n",
              "  </button>\n",
              "\n",
              "<style>\n",
              "  .colab-df-quickchart {\n",
              "      --bg-color: #E8F0FE;\n",
              "      --fill-color: #1967D2;\n",
              "      --hover-bg-color: #E2EBFA;\n",
              "      --hover-fill-color: #174EA6;\n",
              "      --disabled-fill-color: #AAA;\n",
              "      --disabled-bg-color: #DDD;\n",
              "  }\n",
              "\n",
              "  [theme=dark] .colab-df-quickchart {\n",
              "      --bg-color: #3B4455;\n",
              "      --fill-color: #D2E3FC;\n",
              "      --hover-bg-color: #434B5C;\n",
              "      --hover-fill-color: #FFFFFF;\n",
              "      --disabled-bg-color: #3B4455;\n",
              "      --disabled-fill-color: #666;\n",
              "  }\n",
              "\n",
              "  .colab-df-quickchart {\n",
              "    background-color: var(--bg-color);\n",
              "    border: none;\n",
              "    border-radius: 50%;\n",
              "    cursor: pointer;\n",
              "    display: none;\n",
              "    fill: var(--fill-color);\n",
              "    height: 32px;\n",
              "    padding: 0;\n",
              "    width: 32px;\n",
              "  }\n",
              "\n",
              "  .colab-df-quickchart:hover {\n",
              "    background-color: var(--hover-bg-color);\n",
              "    box-shadow: 0 1px 2px rgba(60, 64, 67, 0.3), 0 1px 3px 1px rgba(60, 64, 67, 0.15);\n",
              "    fill: var(--button-hover-fill-color);\n",
              "  }\n",
              "\n",
              "  .colab-df-quickchart-complete:disabled,\n",
              "  .colab-df-quickchart-complete:disabled:hover {\n",
              "    background-color: var(--disabled-bg-color);\n",
              "    fill: var(--disabled-fill-color);\n",
              "    box-shadow: none;\n",
              "  }\n",
              "\n",
              "  .colab-df-spinner {\n",
              "    border: 2px solid var(--fill-color);\n",
              "    border-color: transparent;\n",
              "    border-bottom-color: var(--fill-color);\n",
              "    animation:\n",
              "      spin 1s steps(1) infinite;\n",
              "  }\n",
              "\n",
              "  @keyframes spin {\n",
              "    0% {\n",
              "      border-color: transparent;\n",
              "      border-bottom-color: var(--fill-color);\n",
              "      border-left-color: var(--fill-color);\n",
              "    }\n",
              "    20% {\n",
              "      border-color: transparent;\n",
              "      border-left-color: var(--fill-color);\n",
              "      border-top-color: var(--fill-color);\n",
              "    }\n",
              "    30% {\n",
              "      border-color: transparent;\n",
              "      border-left-color: var(--fill-color);\n",
              "      border-top-color: var(--fill-color);\n",
              "      border-right-color: var(--fill-color);\n",
              "    }\n",
              "    40% {\n",
              "      border-color: transparent;\n",
              "      border-right-color: var(--fill-color);\n",
              "      border-top-color: var(--fill-color);\n",
              "    }\n",
              "    60% {\n",
              "      border-color: transparent;\n",
              "      border-right-color: var(--fill-color);\n",
              "    }\n",
              "    80% {\n",
              "      border-color: transparent;\n",
              "      border-right-color: var(--fill-color);\n",
              "      border-bottom-color: var(--fill-color);\n",
              "    }\n",
              "    90% {\n",
              "      border-color: transparent;\n",
              "      border-bottom-color: var(--fill-color);\n",
              "    }\n",
              "  }\n",
              "</style>\n",
              "\n",
              "  <script>\n",
              "    async function quickchart(key) {\n",
              "      const quickchartButtonEl =\n",
              "        document.querySelector('#' + key + ' button');\n",
              "      quickchartButtonEl.disabled = true;  // To prevent multiple clicks.\n",
              "      quickchartButtonEl.classList.add('colab-df-spinner');\n",
              "      try {\n",
              "        const charts = await google.colab.kernel.invokeFunction(\n",
              "            'suggestCharts', [key], {});\n",
              "      } catch (error) {\n",
              "        console.error('Error during call to suggestCharts:', error);\n",
              "      }\n",
              "      quickchartButtonEl.classList.remove('colab-df-spinner');\n",
              "      quickchartButtonEl.classList.add('colab-df-quickchart-complete');\n",
              "    }\n",
              "    (() => {\n",
              "      let quickchartButtonEl =\n",
              "        document.querySelector('#df-12b03d9d-24fc-4646-9f5c-19d602126ff6 button');\n",
              "      quickchartButtonEl.style.display =\n",
              "        google.colab.kernel.accessAllowed ? 'block' : 'none';\n",
              "    })();\n",
              "  </script>\n",
              "</div>\n",
              "\n",
              "  <div id=\"id_27a69044-c6d2-4f93-91d5-4d1d62a139ca\">\n",
              "    <style>\n",
              "      .colab-df-generate {\n",
              "        background-color: #E8F0FE;\n",
              "        border: none;\n",
              "        border-radius: 50%;\n",
              "        cursor: pointer;\n",
              "        display: none;\n",
              "        fill: #1967D2;\n",
              "        height: 32px;\n",
              "        padding: 0 0 0 0;\n",
              "        width: 32px;\n",
              "      }\n",
              "\n",
              "      .colab-df-generate:hover {\n",
              "        background-color: #E2EBFA;\n",
              "        box-shadow: 0px 1px 2px rgba(60, 64, 67, 0.3), 0px 1px 3px 1px rgba(60, 64, 67, 0.15);\n",
              "        fill: #174EA6;\n",
              "      }\n",
              "\n",
              "      [theme=dark] .colab-df-generate {\n",
              "        background-color: #3B4455;\n",
              "        fill: #D2E3FC;\n",
              "      }\n",
              "\n",
              "      [theme=dark] .colab-df-generate:hover {\n",
              "        background-color: #434B5C;\n",
              "        box-shadow: 0px 1px 3px 1px rgba(0, 0, 0, 0.15);\n",
              "        filter: drop-shadow(0px 1px 2px rgba(0, 0, 0, 0.3));\n",
              "        fill: #FFFFFF;\n",
              "      }\n",
              "    </style>\n",
              "    <button class=\"colab-df-generate\" onclick=\"generateWithVariable('df')\"\n",
              "            title=\"Generate code using this dataframe.\"\n",
              "            style=\"display:none;\">\n",
              "\n",
              "  <svg xmlns=\"http://www.w3.org/2000/svg\" height=\"24px\"viewBox=\"0 0 24 24\"\n",
              "       width=\"24px\">\n",
              "    <path d=\"M7,19H8.4L18.45,9,17,7.55,7,17.6ZM5,21V16.75L18.45,3.32a2,2,0,0,1,2.83,0l1.4,1.43a1.91,1.91,0,0,1,.58,1.4,1.91,1.91,0,0,1-.58,1.4L9.25,21ZM18.45,9,17,7.55Zm-12,3A5.31,5.31,0,0,0,4.9,8.1,5.31,5.31,0,0,0,1,6.5,5.31,5.31,0,0,0,4.9,4.9,5.31,5.31,0,0,0,6.5,1,5.31,5.31,0,0,0,8.1,4.9,5.31,5.31,0,0,0,12,6.5,5.46,5.46,0,0,0,6.5,12Z\"/>\n",
              "  </svg>\n",
              "    </button>\n",
              "    <script>\n",
              "      (() => {\n",
              "      const buttonEl =\n",
              "        document.querySelector('#id_27a69044-c6d2-4f93-91d5-4d1d62a139ca button.colab-df-generate');\n",
              "      buttonEl.style.display =\n",
              "        google.colab.kernel.accessAllowed ? 'block' : 'none';\n",
              "\n",
              "      buttonEl.onclick = () => {\n",
              "        google.colab.notebook.generateWithVariable('df');\n",
              "      }\n",
              "      })();\n",
              "    </script>\n",
              "  </div>\n",
              "\n",
              "    </div>\n",
              "  </div>\n"
            ],
            "application/vnd.google.colaboratory.intrinsic+json": {
              "type": "dataframe",
              "variable_name": "df",
              "summary": "{\n  \"name\": \"df\",\n  \"rows\": 174,\n  \"fields\": [\n    {\n      \"column\": \"Date\",\n      \"properties\": {\n        \"dtype\": \"date\",\n        \"min\": \"2021-01-04 00:00:00\",\n        \"max\": \"2021-09-14 00:00:00\",\n        \"num_unique_values\": 174,\n        \"samples\": [\n          \"2021-08-18 00:00:00\",\n          \"2021-08-03 00:00:00\",\n          \"2021-06-01 00:00:00\"\n        ],\n        \"semantic_type\": \"\",\n        \"description\": \"\"\n      }\n    },\n    {\n      \"column\": \"Open\",\n      \"properties\": {\n        \"dtype\": \"number\",\n        \"std\": 2.379684034658297,\n        \"min\": 21.299999237060547,\n        \"max\": 31.459999084472656,\n        \"num_unique_values\": 152,\n        \"samples\": [\n          24.329999923706055,\n          26.209999084472656,\n          28.719999313354492\n        ],\n        \"semantic_type\": \"\",\n        \"description\": \"\"\n      }\n    },\n    {\n      \"column\": \"High\",\n      \"properties\": {\n        \"dtype\": \"number\",\n        \"std\": 2.3644976556538193,\n        \"min\": 21.889999389648438,\n        \"max\": 31.760000228881836,\n        \"num_unique_values\": 150,\n        \"samples\": [\n          23.809999465942383,\n          27.68000030517578,\n          27.3799991607666\n        ],\n        \"semantic_type\": \"\",\n        \"description\": \"\"\n      }\n    },\n    {\n      \"column\": \"Low\",\n      \"properties\": {\n        \"dtype\": \"number\",\n        \"std\": 2.376316649033731,\n        \"min\": 20.479999542236328,\n        \"max\": 30.6299991607666,\n        \"num_unique_values\": 151,\n        \"samples\": [\n          23.459999084472656,\n          26.690000534057617,\n          26.200000762939453\n        ],\n        \"semantic_type\": \"\",\n        \"description\": \"\"\n      }\n    },\n    {\n      \"column\": \"Close\",\n      \"properties\": {\n        \"dtype\": \"number\",\n        \"std\": 2.377776058674135,\n        \"min\": 21.100000381469727,\n        \"max\": 31.1200008392334,\n        \"num_unique_values\": 159,\n        \"samples\": [\n          24.3799991607666,\n          25.5,\n          27.149999618530273\n        ],\n        \"semantic_type\": \"\",\n        \"description\": \"\"\n      }\n    },\n    {\n      \"column\": \"Adj Close\",\n      \"properties\": {\n        \"dtype\": \"number\",\n        \"std\": 0.9716297106947704,\n        \"min\": 7.7307868003845215,\n        \"max\": 11.43233871459961,\n        \"num_unique_values\": 163,\n        \"samples\": [\n          10.168606758117676,\n          11.005576133728027,\n          10.494303703308105\n        ],\n        \"semantic_type\": \"\",\n        \"description\": \"\"\n      }\n    },\n    {\n      \"column\": \"Volume\",\n      \"properties\": {\n        \"dtype\": \"number\",\n        \"std\": 49493956,\n        \"min\": 26770700,\n        \"max\": 490230400,\n        \"num_unique_values\": 174,\n        \"samples\": [\n          86103100,\n          71850400,\n          90744900\n        ],\n        \"semantic_type\": \"\",\n        \"description\": \"\"\n      }\n    }\n  ]\n}"
            }
          },
          "metadata": {},
          "execution_count": 3
        }
      ]
    },
    {
      "cell_type": "markdown",
      "source": [
        "## Identificando os fractais\n",
        "Dessa forma, para identificar uma linha de resistência (is_resistance), o candle de sinal deverá ter máxima maior que o candle anterior (i-1) e porterior (i+1) a ele, assim como ambos deverão apresentar máxima maior que os candles de suas extremidades (i-2 e i+2, respectivamente). A mesma lógica se aplica para is_support."
      ],
      "metadata": {
        "id": "bdXXQNDyq9tA"
      }
    },
    {
      "cell_type": "code",
      "source": [
        "def is_resistance(df,i):\n",
        "  support = (df['High'][i] > df['High'][i-1]\n",
        "             and df['High'][i] > df['High'][i+1]\n",
        "             and df['High'][i+1] > df['High'][i+2]\n",
        "             and df['High'][i-1] > df['High'][i-2])\n",
        "  return support\n",
        "\n",
        "def is_support(df,i):\n",
        "  support = (df['Low'][i] < df['Low'][i-1]\n",
        "             and df['Low'][i] < df['Low'][i+1]\n",
        "             and df['Low'][i+1] < df['Low'][i+2]\n",
        "             and df['Low'][i-1] < df['Low'][i-2])\n",
        "  return support"
      ],
      "metadata": {
        "id": "UM9QHuY0nGNf"
      },
      "execution_count": 4,
      "outputs": []
    },
    {
      "cell_type": "markdown",
      "source": [
        "# Posicionando as linhas de suporte e resistência\n",
        "O alines recebe um par de tuplas com coordenadas (x, y), onde a primeira tupla representa o ponto de início da linha e a segunda tupla, o ponto final da linha. No nosso caso, o primeiro ponto será o dia onde o suporte ou resistência foi observado, e o último ponto será o último dia do nosso dataset."
      ],
      "metadata": {
        "id": "nnxGwqL4rSa4"
      }
    },
    {
      "cell_type": "code",
      "source": [
        "# coordenadas é uma lista de uma lista de duas tuplas\n",
        "# a primeira tupla tem o índice da vela sinal como 1º argumento e o preço como 2º\n",
        "# a segunda tupla tem o último índice como primeiro argumento para desenhar o suporte/resistência\n",
        "# linha até o final do gráfico\n",
        "\n",
        "coordinates = []\n",
        "for i in range(2, df.shape[0] - 2):\n",
        "  if is_support(df, i):\n",
        "    coordinates.append([\n",
        "      (df.index[i], df['Low'][i]), # If support, plot a horizontal line from the low\n",
        "      (max(df.index),df['Low'][i])\n",
        "    ])\n",
        "  elif is_resistance(df, i):\n",
        "    coordinates.append([\n",
        "      (df.index[i],df['High'][i]), # If resistance, plot a horizontal line from the high\n",
        "      (max(df.index),df['High'][i])\n",
        "    ])\n",
        "\n",
        "coordinates[:5]"
      ],
      "metadata": {
        "colab": {
          "base_uri": "https://localhost:8080/"
        },
        "id": "PpE70XkSnGQi",
        "outputId": "49c14886-e3a6-4feb-9b55-575ac1a08458"
      },
      "execution_count": 6,
      "outputs": [
        {
          "output_type": "execute_result",
          "data": {
            "text/plain": [
              "[[(Timestamp('2021-01-20 00:00:00'), 29.1200008392334),\n",
              "  (Timestamp('2021-09-14 00:00:00'), 29.1200008392334)],\n",
              " [(Timestamp('2021-02-18 00:00:00'), 30.920000076293945),\n",
              "  (Timestamp('2021-09-14 00:00:00'), 30.920000076293945)],\n",
              " [(Timestamp('2021-02-22 00:00:00'), 21.399999618530273),\n",
              "  (Timestamp('2021-09-14 00:00:00'), 21.399999618530273)],\n",
              " [(Timestamp('2021-02-25 00:00:00'), 25.25),\n",
              "  (Timestamp('2021-09-14 00:00:00'), 25.25)],\n",
              " [(Timestamp('2021-03-03 00:00:00'), 20.479999542236328),\n",
              "  (Timestamp('2021-09-14 00:00:00'), 20.479999542236328)]]"
            ]
          },
          "metadata": {},
          "execution_count": 6
        }
      ]
    },
    {
      "cell_type": "markdown",
      "source": [
        "# Plotando o gráfico com os suportes e resistências\n",
        "O objetivo é plotar um gráfico de candlestick e suas linhas horizontais, teremos que chamar a função mpf.plot mais de uma vez para o mesmo gráfico (ax2 = ax1.twinx()).\n",
        "\n",
        "A primeira vez que chamaremos a função será para plotar o gráfico de candlestick (type='candle') com o estilo yahoo, onde os candles que fecharam positivo são representados por verde e os que fecharam negativo, por vermelho. Você pode explorar diversos estilos e tipos de gráficos disponíveis na documentação.\n",
        "\n",
        "Em seguida, iteraremos sobre todas as coordenadas presentes em coordinates, a fim de plotar as linhas horizontas."
      ],
      "metadata": {
        "id": "wxq_0ab7rxvc"
      }
    },
    {
      "cell_type": "code",
      "source": [
        "def plot_all(coordinates):\n",
        "\n",
        "  fig = mpf.figure(figsize=(16, 10))\n",
        "  title = f\"Supports and Resistances: {ticker.replace('.SA', '')}\"\n",
        "  ax1 = fig.subplot(title=title)\n",
        "  ax2 = ax1.twinx()\n",
        "\n",
        "  mpf.plot(df,\n",
        "           ax=ax1,\n",
        "           style='yahoo',\n",
        "           type='candle',\n",
        "           ylabel='Price')\n",
        "\n",
        "  for coordinate in coordinates:\n",
        "    mpf.plot(df, alines=(coordinate), ax=ax2)\n",
        "\n",
        "plot_all(coordinates)"
      ],
      "metadata": {
        "colab": {
          "base_uri": "https://localhost:8080/",
          "height": 904
        },
        "id": "kSndmP1vnGTW",
        "outputId": "bcaeb85c-be66-47e8-e895-86527fdfd5c5"
      },
      "execution_count": 7,
      "outputs": [
        {
          "output_type": "display_data",
          "data": {
            "text/plain": [
              "<Mpf_Figure size 1600x1000 with 2 Axes>"
            ],
            "image/png": "[encoded data removed]"
          },
          "metadata": {}
        }
      ]
    },
    {
      "cell_type": "markdown",
      "source": [
        "# Refinando o nosso gráfico\n",
        "Existem diversas formas de se calcular o tamanho esperado de um candle (Average True Range ou ATR sendo um deles). Por simplicidade, vamos definir o tamanho médio dos candles, ou seja, a média da diferença entre a máxima e a mínima dos candles.\n",
        "\n",
        "Dessa maneira, se a diferença entre duas linhas, seja ela de suporte ou resistência, for menor que a média dos corpos dos candles, quer dizer que elas estão muito próximas entre si e pertencem à mesma zona."
      ],
      "metadata": {
        "id": "v-4viBh7sLua"
      }
    },
    {
      "cell_type": "code",
      "source": [
        "import numpy as np\n",
        "avg_candle_size =  np.mean(df['High'] - df['Low'])\n",
        "avg_candle_size"
      ],
      "metadata": {
        "colab": {
          "base_uri": "https://localhost:8080/"
        },
        "id": "uru8GGr3nGWK",
        "outputId": "3a6362fb-f51c-4a0d-aa4e-696013646658"
      },
      "execution_count": 8,
      "outputs": [
        {
          "output_type": "execute_result",
          "data": {
            "text/plain": [
              "0.8210919478843952"
            ]
          },
          "metadata": {},
          "execution_count": 8
        }
      ]
    },
    {
      "cell_type": "markdown",
      "source": [
        "A função a seguir verificará se um dado preço (price) está distante o suficiente de uma lista de suportes e resistências (levels). Para medir a distância, utilizaremos a variável delta, que no nosso caso será o avg_candle_size.\n",
        "\n",
        "A função is_far_from_level seguirá a seguinte lógica: se o preço for menor que o avg_candle_size de pelo menos uma linha de suporte ou resistência (level), consideramos que os preços estão próximos e assim ele é descartado. Por outro lado, caso o preço não esteja próximo o suficiente de nenhum suporte ou resistência, esse preço será considerado distante e será adicionado a lista no_noise_levels."
      ],
      "metadata": {
        "id": "5fCbMaSJsiJB"
      }
    },
    {
      "cell_type": "markdown",
      "source": [],
      "metadata": {
        "id": "mXxD8LzctRcb"
      }
    },
    {
      "cell_type": "code",
      "source": [
        "def is_far_from_level(price, levels, delta):\n",
        "    is_far = True\n",
        "    for level in levels:\n",
        "        if (abs(level - price) < delta):\n",
        "            is_far = False\n",
        "            break\n",
        "    return is_far"
      ],
      "metadata": {
        "id": "CsFeDdZrnGZk"
      },
      "execution_count": 9,
      "outputs": []
    },
    {
      "cell_type": "markdown",
      "source": [
        "Adicionamos as novas coordenadas à uma nova lista coordinates para sermos capazes de plotar as linhas horizontais."
      ],
      "metadata": {
        "id": "UgmFiJ8QuJTh"
      }
    },
    {
      "cell_type": "code",
      "source": [
        "no_noise_levels = []\n",
        "coordinates = []\n",
        "\n",
        "# We skip the first and the last 2 data points once we need at least 5 candles\n",
        "# to form the patter\n",
        "for i in range(2, df.shape[0] - 2):\n",
        "\n",
        "    if is_support(df, i):\n",
        "        price = df['Low'][i]\n",
        "        if is_far_from_level(price, no_noise_levels, avg_candle_size):\n",
        "            no_noise_levels.append(price)\n",
        "            coordinates.append([\n",
        "                (df.index[i], price), (max(df.index), price)\n",
        "            ])\n",
        "\n",
        "    elif is_resistance(df,i):\n",
        "        price = df['High'][i]\n",
        "        if is_far_from_level(price, no_noise_levels, avg_candle_size):\n",
        "            no_noise_levels.append(price)\n",
        "            coordinates.append([\n",
        "                (df.index[i], price), (max(df.index), price)\n",
        "            ])\n",
        "\n",
        "coordinates"
      ],
      "metadata": {
        "colab": {
          "base_uri": "https://localhost:8080/"
        },
        "id": "lJOPXupCoql5",
        "outputId": "498b6a16-874c-4d2b-856e-e9f453a322cb"
      },
      "execution_count": 10,
      "outputs": [
        {
          "output_type": "execute_result",
          "data": {
            "text/plain": [
              "[[(Timestamp('2021-01-20 00:00:00'), 29.1200008392334),\n",
              "  (Timestamp('2021-09-14 00:00:00'), 29.1200008392334)],\n",
              " [(Timestamp('2021-02-18 00:00:00'), 30.920000076293945),\n",
              "  (Timestamp('2021-09-14 00:00:00'), 30.920000076293945)],\n",
              " [(Timestamp('2021-02-22 00:00:00'), 21.399999618530273),\n",
              "  (Timestamp('2021-09-14 00:00:00'), 21.399999618530273)],\n",
              " [(Timestamp('2021-02-25 00:00:00'), 25.25),\n",
              "  (Timestamp('2021-09-14 00:00:00'), 25.25)],\n",
              " [(Timestamp('2021-03-03 00:00:00'), 20.479999542236328),\n",
              "  (Timestamp('2021-09-14 00:00:00'), 20.479999542236328)],\n",
              " [(Timestamp('2021-03-05 00:00:00'), 23.219999313354492),\n",
              "  (Timestamp('2021-09-14 00:00:00'), 23.219999313354492)],\n",
              " [(Timestamp('2021-05-18 00:00:00'), 26.799999237060547),\n",
              "  (Timestamp('2021-09-14 00:00:00'), 26.799999237060547)],\n",
              " [(Timestamp('2021-06-18 00:00:00'), 27.639999389648438),\n",
              "  (Timestamp('2021-09-14 00:00:00'), 27.639999389648438)],\n",
              " [(Timestamp('2021-09-09 00:00:00'), 24.139999389648438),\n",
              "  (Timestamp('2021-09-14 00:00:00'), 24.139999389648438)]]"
            ]
          },
          "metadata": {},
          "execution_count": 10
        }
      ]
    },
    {
      "cell_type": "code",
      "source": [
        "#Plotagem do gráfico\n",
        "plot_all(coordinates)"
      ],
      "metadata": {
        "colab": {
          "base_uri": "https://localhost:8080/",
          "height": 547
        },
        "id": "O--EbaIpoqu0",
        "outputId": "f753f2ba-a547-4fae-dc81-0f98154e3a93"
      },
      "execution_count": 11,
      "outputs": [
        {
          "output_type": "display_data",
          "data": {
            "text/plain": [
              "<Mpf_Figure size 1600x1000 with 2 Axes>"
            ],
            "image/png": "[encoded data removed]"
          },
          "metadata": {}
        }
      ]
    },
    {
      "cell_type": "code",
      "source": [],
      "metadata": {
        "id": "ry6u9XdCoqyO"
      },
      "execution_count": null,
      "outputs": []
    }
  ]
}