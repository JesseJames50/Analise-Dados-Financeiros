{
  "nbformat": 4,
  "nbformat_minor": 0,
  "metadata": {
    "colab": {
      "provenance": [],
      "authorship_tag": "ABX9TyMrPEGEPRoyoXFfsEBaTN9P",
      "include_colab_link": true
    },
    "kernelspec": {
      "name": "python3",
      "display_name": "Python 3"
    },
    "language_info": {
      "name": "python"
    }
  },
  "cells": [
    {
      "cell_type": "markdown",
      "metadata": {
        "id": "view-in-github",
        "colab_type": "text"
      },
      "source": [
        "<a href=\"https://colab.research.google.com/github/JesseJames50/Analise-Dados-Financeiros/blob/main/eder_dos_traders.ipynb\" target=\"_parent\"><img src=\"https://colab.research.google.com/assets/colab-badge.svg\" alt=\"Open In Colab\"/></a>"
      ]
    },
    {
      "cell_type": "markdown",
      "source": [
        "# EDEN DOS TRADERS\n",
        "O Éden dos Traders é um filtro de tendência idealizado pelo trader Stormer o qual se baseia na verificação se um ativo está em tendência de alta ou baixa pela análise das médias exponenciais de 8 e 80"
      ],
      "metadata": {
        "id": "q3nFdwyC83ik"
      }
    },
    {
      "cell_type": "code",
      "execution_count": 1,
      "metadata": {
        "colab": {
          "base_uri": "https://localhost:8080/"
        },
        "id": "8kEkLzMk1tnC",
        "outputId": "7402ec50-c580-46d3-ee10-c960b6a74a10"
      },
      "outputs": [
        {
          "output_type": "stream",
          "name": "stdout",
          "text": [
            "Requirement already satisfied: yfinance in /usr/local/lib/python3.10/dist-packages (0.2.38)\n",
            "Requirement already satisfied: pandas>=1.3.0 in /usr/local/lib/python3.10/dist-packages (from yfinance) (2.0.3)\n",
            "Requirement already satisfied: numpy>=1.16.5 in /usr/local/lib/python3.10/dist-packages (from yfinance) (1.25.2)\n",
            "Requirement already satisfied: requests>=2.31 in /usr/local/lib/python3.10/dist-packages (from yfinance) (2.31.0)\n",
            "Requirement already satisfied: multitasking>=0.0.7 in /usr/local/lib/python3.10/dist-packages (from yfinance) (0.0.11)\n",
            "Requirement already satisfied: lxml>=4.9.1 in /usr/local/lib/python3.10/dist-packages (from yfinance) (4.9.4)\n",
            "Requirement already satisfied: appdirs>=1.4.4 in /usr/local/lib/python3.10/dist-packages (from yfinance) (1.4.4)\n",
            "Requirement already satisfied: pytz>=2022.5 in /usr/local/lib/python3.10/dist-packages (from yfinance) (2023.4)\n",
            "Requirement already satisfied: frozendict>=2.3.4 in /usr/local/lib/python3.10/dist-packages (from yfinance) (2.4.4)\n",
            "Requirement already satisfied: peewee>=3.16.2 in /usr/local/lib/python3.10/dist-packages (from yfinance) (3.17.3)\n",
            "Requirement already satisfied: beautifulsoup4>=4.11.1 in /usr/local/lib/python3.10/dist-packages (from yfinance) (4.12.3)\n",
            "Requirement already satisfied: html5lib>=1.1 in /usr/local/lib/python3.10/dist-packages (from yfinance) (1.1)\n",
            "Requirement already satisfied: soupsieve>1.2 in /usr/local/lib/python3.10/dist-packages (from beautifulsoup4>=4.11.1->yfinance) (2.5)\n",
            "Requirement already satisfied: six>=1.9 in /usr/local/lib/python3.10/dist-packages (from html5lib>=1.1->yfinance) (1.16.0)\n",
            "Requirement already satisfied: webencodings in /usr/local/lib/python3.10/dist-packages (from html5lib>=1.1->yfinance) (0.5.1)\n",
            "Requirement already satisfied: python-dateutil>=2.8.2 in /usr/local/lib/python3.10/dist-packages (from pandas>=1.3.0->yfinance) (2.8.2)\n",
            "Requirement already satisfied: tzdata>=2022.1 in /usr/local/lib/python3.10/dist-packages (from pandas>=1.3.0->yfinance) (2024.1)\n",
            "Requirement already satisfied: charset-normalizer<4,>=2 in /usr/local/lib/python3.10/dist-packages (from requests>=2.31->yfinance) (3.3.2)\n",
            "Requirement already satisfied: idna<4,>=2.5 in /usr/local/lib/python3.10/dist-packages (from requests>=2.31->yfinance) (3.7)\n",
            "Requirement already satisfied: urllib3<3,>=1.21.1 in /usr/local/lib/python3.10/dist-packages (from requests>=2.31->yfinance) (2.0.7)\n",
            "Requirement already satisfied: certifi>=2017.4.17 in /usr/local/lib/python3.10/dist-packages (from requests>=2.31->yfinance) (2024.2.2)\n"
          ]
        }
      ],
      "source": [
        "! pip install yfinance"
      ]
    },
    {
      "cell_type": "code",
      "source": [
        "import yfinance as yf\n",
        "import pandas as pd"
      ],
      "metadata": {
        "id": "_w5C7-HK1w2I"
      },
      "execution_count": 2,
      "outputs": []
    },
    {
      "cell_type": "code",
      "source": [
        "# periodos 2m = 2mo, 1 ano = 1y\n",
        "# periodos: \"1d\", \"5d\", \"1mo\", \"2mo\", \"3mo\", \"6mo\", \"1y\", \"2y\", \"5y\", \"10y\", \"ytd\", \"max\"\n",
        "\n",
        "periodo = \"2mo\"\n",
        "\n",
        "def fetch_data(ticker, period=periodo):\n",
        "    \"\"\"\n",
        "    Fetch historical market data for a given ticker over a specified period.\n",
        "    \"\"\"\n",
        "    data = yf.download(ticker, period=period)\n",
        "    return data\n",
        "\n",
        "# Utilizando as médias de 21 e 80\n",
        "def calculate_emas(data, short_window=21, long_window=80):\n",
        "    \"\"\"\n",
        "    Calculate short-term and long-term exponential moving averages (EMAs) for the data.\n",
        "    \"\"\"\n",
        "    data['EMA_short'] = data['Close'].ewm(span=short_window, adjust=False).mean()\n",
        "    data['EMA_long'] = data['Close'].ewm(span=long_window, adjust=False).mean()\n",
        "    return data\n",
        "\n",
        "def align_signals(data):\n",
        "    \"\"\"\n",
        "    Determine if the short-term and long-term EMAs are both trending in the same direction.\n",
        "    \"\"\"\n",
        "    data['Signal'] = ((data['EMA_short'].diff() > 0) & (data['EMA_long'].diff() > 0)) | \\\n",
        "                     ((data['EMA_short'].diff() < 0) & (data['EMA_long'].diff() < 0))\n",
        "    return data\n",
        "\n",
        "def analyze_tickers(tickers, period=periodo):\n",
        "    results = {}\n",
        "    for ticker in tickers:\n",
        "        print(f\"Analyzing {ticker}...\")\n",
        "        data = fetch_data(ticker, period)\n",
        "        if not data.empty:\n",
        "            data = calculate_emas(data)\n",
        "            data = align_signals(data)\n",
        "            results[ticker] = data\n",
        "        else:\n",
        "            print(f\"No data found for {ticker}\")\n",
        "    return results\n",
        "\n",
        "# Lista de tickers para análise\n",
        "tickers = ['petr4.sa', 'wege3.sa', 'mglu3.sa']  # Exemplo de tickers\n",
        "\n",
        "# Executar análise\n",
        "ticker_data = analyze_tickers(tickers)\n"
      ],
      "metadata": {
        "colab": {
          "base_uri": "https://localhost:8080/"
        },
        "id": "FnHCuXmU1zwV",
        "outputId": "2df8e846-71f4-4376-a944-f5ae35bec731"
      },
      "execution_count": 18,
      "outputs": [
        {
          "output_type": "stream",
          "name": "stderr",
          "text": [
            "\r[*********************100%%**********************]  1 of 1 completed"
          ]
        },
        {
          "output_type": "stream",
          "name": "stdout",
          "text": [
            "Analyzing petr4.sa...\n",
            "Analyzing wege3.sa...\n"
          ]
        },
        {
          "output_type": "stream",
          "name": "stderr",
          "text": [
            "\n",
            "[*********************100%%**********************]  1 of 1 completed\n",
            "[*********************100%%**********************]  1 of 1 completed"
          ]
        },
        {
          "output_type": "stream",
          "name": "stdout",
          "text": [
            "Analyzing mglu3.sa...\n"
          ]
        },
        {
          "output_type": "stream",
          "name": "stderr",
          "text": [
            "\n"
          ]
        }
      ]
    },
    {
      "cell_type": "code",
      "source": [],
      "metadata": {
        "id": "nrFWuCY--gt7"
      },
      "execution_count": null,
      "outputs": []
    }
  ]
}